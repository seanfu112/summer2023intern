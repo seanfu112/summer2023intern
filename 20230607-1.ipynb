{
 "cells": [
  {
   "cell_type": "code",
   "execution_count": 863,
   "metadata": {},
   "outputs": [],
   "source": [
    "import numpy as np\n",
    "import pandas as pd\n",
    "import matplotlib as mpl\n",
    "import matplotlib.pyplot as plt\n",
    "import matplotlib.ticker as mtick"
   ]
  },
  {
   "cell_type": "code",
   "execution_count": 864,
   "metadata": {},
   "outputs": [],
   "source": [
    "data = pd.read_csv(\"data.csv\")"
   ]
  },
  {
   "cell_type": "code",
   "execution_count": 865,
   "metadata": {},
   "outputs": [],
   "source": [
    "data[\"busi_date\"] = pd.to_datetime(data[\"busi_date\"])\n",
    "data[\"industry\"] = data[\"industry\"].str.replace(\" \",\"\")\n",
    "data[\"industry\"] = data[\"industry\"].str.lstrip(\"ind\")\n",
    "data[\"industry\"] = data[\"industry\"].str.zfill(2)\n",
    "data[\"industry\"] = \"ind\"+ data[\"industry\"]"
   ]
  },
  {
   "cell_type": "code",
   "execution_count": 866,
   "metadata": {},
   "outputs": [],
   "source": [
    "industry_data = pd.DataFrame(data.groupby([\"busi_date\",\"industry\"])[\"ttl_weight\"].sum())"
   ]
  },
  {
   "cell_type": "code",
   "execution_count": 867,
   "metadata": {},
   "outputs": [],
   "source": [
    "data = pd.DataFrame(data.groupby([\"busi_date\",\"order_book_id\"])[\"ttl_weight\"].sum())"
   ]
  },
  {
   "cell_type": "code",
   "execution_count": 868,
   "metadata": {},
   "outputs": [],
   "source": [
    "grouped = data.groupby(level='busi_date')\n",
    "data['rank'] = grouped['ttl_weight'].rank(ascending=False, method='min')\n",
    "top_weights = list(range(1,501))\n",
    "top_weights_df = data[data['rank'].isin(top_weights)]\n",
    "top_weights_df = top_weights_df.sort_values(by = [\"busi_date\",\"rank\"])\n",
    "top_weights_df = top_weights_df.reset_index()\n",
    "df = top_weights_df.pivot_table(index = \"busi_date\", columns = \"rank\",values = \"ttl_weight\").reset_index()"
   ]
  },
  {
   "cell_type": "code",
   "execution_count": 869,
   "metadata": {},
   "outputs": [],
   "source": [
    "grouped_industry = industry_data.groupby(level='busi_date')\n",
    "industry_data['rank'] = grouped_industry['ttl_weight'].rank(ascending=False, method='min')\n",
    "top_weights = list(range(1,31))\n",
    "top_weights_industry = industry_data[industry_data['rank'].isin(top_weights)]\n",
    "top_weights_industry = top_weights_industry.sort_values(by = [\"busi_date\",\"rank\"])\n",
    "top_weights_industry = top_weights_industry.reset_index()\n",
    "df2 = top_weights_industry.pivot_table(index = \"busi_date\", columns = \"rank\",values = \"ttl_weight\").reset_index()"
   ]
  },
  {
   "cell_type": "code",
   "execution_count": 870,
   "metadata": {
    "scrolled": false
   },
   "outputs": [],
   "source": [
    "# df.plot(x=\"busi_date\",kind = \"bar\", stacked = True,figsize = (20,10))"
   ]
  },
  {
   "cell_type": "code",
   "execution_count": 878,
   "metadata": {},
   "outputs": [],
   "source": [
    "final_stock_weight = pd.DataFrame()\n",
    "final_stock_weight[1] = df.iloc[:,0:2].sum(axis=1)\n",
    "final_stock_weight[10] = df.iloc[:,2:11].sum(axis=1)\n",
    "final_stock_weight[50] = df.iloc[:,11:51].sum(axis=1)\n",
    "final_stock_weight[100] = df.iloc[:,51:101].sum(axis=1)\n",
    "final_stock_weight[300] = df.iloc[:,101:301].sum(axis=1)\n",
    "final_stock_weight[500] = df.iloc[:,301:501].sum(axis=1)\n",
    "final_stock_weight.index = df[\"busi_date\"].dt.date"
   ]
  },
  {
   "cell_type": "code",
   "execution_count": 879,
   "metadata": {},
   "outputs": [],
   "source": [
    "final_industry_weight = pd.DataFrame()\n",
    "final_industry_weight[5] = df2.iloc[:,1:6].sum(axis=1)\n",
    "final_industry_weight[10] = df2.iloc[:,6:11].sum(axis=1)\n",
    "final_industry_weight[15] = df2.iloc[:,11:16].sum(axis=1)\n",
    "final_industry_weight[20] = df2.iloc[:,16:21].sum(axis=1)\n",
    "final_industry_weight[30] = df2.iloc[:,21:31].sum(axis=1)\n",
    "final_industry_weight.index = df2[\"busi_date\"].dt.date"
   ]
  },
  {
   "cell_type": "code",
   "execution_count": null,
   "metadata": {},
   "outputs": [],
   "source": []
  },
  {
   "cell_type": "code",
   "execution_count": 886,
   "metadata": {
    "scrolled": false
   },
   "outputs": [
    {
     "data": {
      "text/plain": [
       "<matplotlib.legend.Legend at 0x7fe4748c8b70>"
      ]
     },
     "execution_count": 886,
     "metadata": {},
     "output_type": "execute_result"
    },
    {
     "data": {
      "image/png": "[encoded data removed]",
      "text/plain": [
       "<Figure size 1440x432 with 2 Axes>"
      ]
     },
     "metadata": {
      "needs_background": "light"
     },
     "output_type": "display_data"
    }
   ],
   "source": [
    "plt.figure(figsize=(20,6))\n",
    "ax=plt.subplot(121)\n",
    "final_stock_weight.plot.bar(stacked=True,ax=ax)\n",
    "ax.set_xticklabels(final_stock_weight.index, rotation = 45)\n",
    "ax.set(title=\"个股累计权重图\", xlabel='日期', ylabel='累计收益率')\n",
    "ax.legend(loc = \"upper right\", ncol = 6)\n",
    "\n",
    "\n",
    "ax=plt.subplot(122)\n",
    "final_industry_weight.plot.bar(stacked=True,ax=ax)\n",
    "ax.set_xticklabels(final_industry_weight.index, rotation = 45)\n",
    "ax.set(title=\"行业累计权重图\", xlabel='日期', ylabel='累计收益率')\n",
    "ax.legend(loc = \"upper right\", ncol = 5)"
   ]
  },
  {
   "cell_type": "code",
   "execution_count": null,
   "metadata": {},
   "outputs": [],
   "source": []
  }
 ],
 "metadata": {
  "kernelspec": {
   "display_name": "Python 3",
   "language": "python",
   "name": "python3"
  },
  "language_info": {
   "codemirror_mode": {
    "name": "ipython",
    "version": 3
   },
   "file_extension": ".py",
   "mimetype": "text/x-python",
   "name": "python",
   "nbconvert_exporter": "python",
   "pygments_lexer": "ipython3",
   "version": "3.6.10"
  }
 },
 "nbformat": 4,
 "nbformat_minor": 4
}
