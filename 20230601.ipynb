{
 "cells": [
  {
   "cell_type": "code",
   "execution_count": 209,
   "metadata": {},
   "outputs": [],
   "source": [
    "import numpy as np\n",
    "import pandas as pd\n",
    "import matplotlib as mpl\n",
    "import matplotlib.pyplot as plt\n",
    "import matplotlib.ticker as mtick"
   ]
  },
  {
   "cell_type": "code",
   "execution_count": 210,
   "metadata": {},
   "outputs": [],
   "source": [
    "industry = pd.read_csv(\"industry.csv\")\n",
    "industry = industry.T\n",
    "industry.index = industry.index.str.lstrip()\n",
    "industry.index = industry.index.str.rstrip()\n",
    "industry = industry.T"
   ]
  },
  {
   "cell_type": "code",
   "execution_count": 211,
   "metadata": {},
   "outputs": [],
   "source": [
    "busi_dates = pd.Series(get_trading_dates(\"20230504\",\"20230519\"))"
   ]
  },
  {
   "cell_type": "code",
   "execution_count": 212,
   "metadata": {},
   "outputs": [],
   "source": [
    "components = index_components('000300.XSHG')"
   ]
  },
  {
   "cell_type": "code",
   "execution_count": 213,
   "metadata": {},
   "outputs": [],
   "source": [
    "hs300 = get_price_change_rate(components, start_date=20230504, end_date=20230519, expect_df=True).unstack().to_frame(\"price_change_rate\")"
   ]
  },
  {
   "cell_type": "code",
   "execution_count": 214,
   "metadata": {},
   "outputs": [],
   "source": [
    "hs300 = hs300.reset_index()"
   ]
  },
  {
   "cell_type": "code",
   "execution_count": 215,
   "metadata": {},
   "outputs": [],
   "source": [
    "industry = industry.sort_values(by = \"order_book_id\")\n",
    "industry = industry.reset_index(drop = True)\n",
    "industry = industry.dropna()\n",
    "industry.index = industry[\"order_book_id\"].str.replace(\" \",\"\")\n",
    "industry = industry.drop(\"order_book_id\", axis = 0)\n",
    "industry = industry.drop(\"order_book_id\", axis = 1)\n",
    "keep_rows = list(hs300[\"order_book_id\"])\n",
    "keep_rows = [*set(keep_rows)]\n",
    "industry = industry.T\n",
    "industry = industry[industry.columns.intersection(keep_rows)]\n",
    "industry = industry.T"
   ]
  },
  {
   "cell_type": "code",
   "execution_count": 216,
   "metadata": {},
   "outputs": [],
   "source": [
    "hs300 = hs300.merge(industry,on = [\"order_book_id\"])"
   ]
  },
  {
   "cell_type": "code",
   "execution_count": 217,
   "metadata": {},
   "outputs": [],
   "source": [
    "hs300.rename(columns = {'ind_number_2021':'ind'}, inplace = True)\n",
    "hs300.rename(columns = {'date':'busi_date'}, inplace = True)"
   ]
  },
  {
   "cell_type": "code",
   "execution_count": 218,
   "metadata": {},
   "outputs": [],
   "source": [
    "hs300[\"ind\"] = hs300[\"ind\"].str.replace(\" \",\"\")\n",
    "hs300[\"ind\"] = hs300[\"ind\"].str.lstrip(\"ind\")\n",
    "hs300[\"ind\"] = hs300[\"ind\"].str.zfill(2)\n",
    "hs300[\"ind\"] = \"ind\"+ hs300[\"ind\"]"
   ]
  },
  {
   "cell_type": "code",
   "execution_count": 219,
   "metadata": {},
   "outputs": [],
   "source": [
    "max_dates = busi_dates.to_frame(\"dates\")\n",
    "max_dates[\"dates\"] = pd.to_datetime(max_dates[\"dates\"])\n",
    "max_dates = max_dates.groupby([max_dates.dates.dt.year, max_dates.dates.dt.month]).max().values\n",
    "max_dates = pd.DataFrame(max_dates)"
   ]
  },
  {
   "cell_type": "code",
   "execution_count": 220,
   "metadata": {},
   "outputs": [],
   "source": [
    "max_dates.rename(columns = {0:'dates'}, inplace = True)"
   ]
  },
  {
   "cell_type": "code",
   "execution_count": 221,
   "metadata": {},
   "outputs": [],
   "source": [
    "dates = []\n",
    "for values in max_dates[\"dates\"]:\n",
    "    temp = index_weights('000300.XSHG', values).rename(values)\n",
    "    dates.append(temp)\n",
    "weights = pd.concat(dates, axis=\"columns\").T"
   ]
  },
  {
   "cell_type": "code",
   "execution_count": 222,
   "metadata": {},
   "outputs": [],
   "source": [
    "weights = weights.reindex(busi_dates)\n",
    "weights = weights.fillna(method = \"bfill\")\n",
    "weights = weights.stack().to_frame(\"weights\")\n",
    "weights.index.names = [\"busi_date\",\"order_book_id\"]"
   ]
  },
  {
   "cell_type": "code",
   "execution_count": 223,
   "metadata": {},
   "outputs": [],
   "source": [
    "weights = weights.sort_index()\n",
    "weights = weights.reset_index()\n",
    "weights = weights.sort_values(by=[\"order_book_id\",\"busi_date\"])\n",
    "weights = weights.reset_index(drop = True)"
   ]
  },
  {
   "cell_type": "code",
   "execution_count": 224,
   "metadata": {},
   "outputs": [],
   "source": [
    "weights[\"busi_date\"] = pd.to_datetime(weights[\"busi_date\"])\n",
    "weights = weights.iloc[:,[1,0,2]]"
   ]
  },
  {
   "cell_type": "code",
   "execution_count": 225,
   "metadata": {},
   "outputs": [],
   "source": [
    "hs300 = hs300.merge(weights,on = [\"order_book_id\",\"busi_date\"])"
   ]
  },
  {
   "cell_type": "code",
   "execution_count": 226,
   "metadata": {},
   "outputs": [],
   "source": [
    "hs300[\"yield\"] = hs300[\"price_change_rate\"]*hs300[\"weights\"]"
   ]
  },
  {
   "cell_type": "code",
   "execution_count": 227,
   "metadata": {},
   "outputs": [],
   "source": [
    "hs300[\"total_yield\"] = hs300[\"yield\"]/hs300[\"weights\"]\n",
    "hs300.rename(columns = {'ind':'industry'}, inplace = True)"
   ]
  },
  {
   "cell_type": "code",
   "execution_count": 228,
   "metadata": {},
   "outputs": [],
   "source": [
    "account = pd.read_csv(\"data.csv\")\n",
    "div = pd.read_csv(\"data20230523.csv\")"
   ]
  },
  {
   "cell_type": "code",
   "execution_count": 229,
   "metadata": {},
   "outputs": [],
   "source": [
    "account[\"busi_date\"] = pd.to_datetime(account[\"busi_date\"])\n",
    "div[\"busi_date\"] = pd.to_datetime(div[\"busi_date\"])\n",
    "div = div.drop(\"ttl_asset_adj\", axis=1)"
   ]
  },
  {
   "cell_type": "code",
   "execution_count": 230,
   "metadata": {},
   "outputs": [],
   "source": [
    "account = account.groupby([\"busi_date\",\"industry\",\"order_book_id\",\"hs300\"])[\"market\",\"stkcode\",\"daily_profit\",\"hs300_iweight\"].sum()"
   ]
  },
  {
   "cell_type": "code",
   "execution_count": 231,
   "metadata": {},
   "outputs": [],
   "source": [
    "account = account.reset_index()"
   ]
  },
  {
   "cell_type": "code",
   "execution_count": 232,
   "metadata": {},
   "outputs": [],
   "source": [
    "account[\"industry\"] = account[\"industry\"].str.lstrip(\"ind\")\n",
    "account[\"industry\"] = account[\"industry\"].str.zfill(2)\n",
    "account[\"industry\"] = \"ind\"+ account[\"industry\"]"
   ]
  },
  {
   "cell_type": "code",
   "execution_count": 233,
   "metadata": {},
   "outputs": [],
   "source": [
    "account = account.drop(\"hs300\", axis = 1)"
   ]
  },
  {
   "cell_type": "code",
   "execution_count": 234,
   "metadata": {},
   "outputs": [],
   "source": [
    "account = account.merge(div, on=\"busi_date\")"
   ]
  },
  {
   "cell_type": "code",
   "execution_count": 235,
   "metadata": {},
   "outputs": [],
   "source": [
    "account[\"yield\"] = account[\"daily_profit\"]/account[\"prev_ttl_asset\"]"
   ]
  },
  {
   "cell_type": "code",
   "execution_count": 236,
   "metadata": {},
   "outputs": [],
   "source": [
    "account[\"total_yield\"] = account[\"yield\"]/account[\"hs300_iweight\"]"
   ]
  },
  {
   "cell_type": "code",
   "execution_count": null,
   "metadata": {},
   "outputs": [],
   "source": []
  },
  {
   "cell_type": "code",
   "execution_count": null,
   "metadata": {},
   "outputs": [],
   "source": []
  },
  {
   "cell_type": "code",
   "execution_count": 332,
   "metadata": {},
   "outputs": [],
   "source": [
    "results = hs300.groupby([\"busi_date\",\"industry\"])[\"weights\",\"total_yield\"].sum()\n",
    "results = results.drop(\"total_yield\",axis=1)"
   ]
  },
  {
   "cell_type": "code",
   "execution_count": 333,
   "metadata": {},
   "outputs": [],
   "source": [
    "results2 = account.groupby([\"busi_date\",\"industry\"])[\"hs300_iweight\",\"total_yield\"].sum()\n",
    "results2 = results2.drop(\"total_yield\",axis=1)"
   ]
  },
  {
   "cell_type": "code",
   "execution_count": 334,
   "metadata": {},
   "outputs": [],
   "source": [
    "results.rename(columns = {'weights':'benchmark_weight'}, inplace = True)\n",
    "results2.rename(columns = {'hs300_iweight':'account_weight'}, inplace = True)"
   ]
  },
  {
   "cell_type": "code",
   "execution_count": 335,
   "metadata": {},
   "outputs": [],
   "source": [
    "results = results.merge(results2, on = [\"industry\",\"busi_date\"])"
   ]
  },
  {
   "cell_type": "code",
   "execution_count": 336,
   "metadata": {},
   "outputs": [],
   "source": [
    "results = results.groupby([\"industry\",\"busi_date\"]).sum()"
   ]
  },
  {
   "cell_type": "code",
   "execution_count": 337,
   "metadata": {},
   "outputs": [],
   "source": [
    "results[\"difference\"] = results[\"account_weight\"]-results[\"benchmark_weight\"]"
   ]
  },
  {
   "cell_type": "code",
   "execution_count": 357,
   "metadata": {},
   "outputs": [],
   "source": [
    "final = pd.DataFrame(index = results.index)\n",
    "final[\"weights\"] = results[\"difference\"]"
   ]
  },
  {
   "cell_type": "code",
   "execution_count": 358,
   "metadata": {},
   "outputs": [
    {
     "data": {
      "text/html": [
       "<div>\n",
       "<style scoped>\n",
       "    .dataframe tbody tr th:only-of-type {\n",
       "        vertical-align: middle;\n",
       "    }\n",
       "\n",
       "    .dataframe tbody tr th {\n",
       "        vertical-align: top;\n",
       "    }\n",
       "\n",
       "    .dataframe thead th {\n",
       "        text-align: right;\n",
       "    }\n",
       "</style>\n",
       "<table border=\"1\" class=\"dataframe\">\n",
       "  <thead>\n",
       "    <tr style=\"text-align: right;\">\n",
       "      <th></th>\n",
       "      <th>industry</th>\n",
       "      <th>busi_date</th>\n",
       "      <th>weights</th>\n",
       "    </tr>\n",
       "  </thead>\n",
       "  <tbody>\n",
       "    <tr>\n",
       "      <th>0</th>\n",
       "      <td>ind01</td>\n",
       "      <td>2023-05-04</td>\n",
       "      <td>0.00000</td>\n",
       "    </tr>\n",
       "    <tr>\n",
       "      <th>1</th>\n",
       "      <td>ind01</td>\n",
       "      <td>2023-05-05</td>\n",
       "      <td>0.00044</td>\n",
       "    </tr>\n",
       "    <tr>\n",
       "      <th>2</th>\n",
       "      <td>ind01</td>\n",
       "      <td>2023-05-08</td>\n",
       "      <td>-0.00043</td>\n",
       "    </tr>\n",
       "    <tr>\n",
       "      <th>3</th>\n",
       "      <td>ind01</td>\n",
       "      <td>2023-05-09</td>\n",
       "      <td>-0.00102</td>\n",
       "    </tr>\n",
       "    <tr>\n",
       "      <th>4</th>\n",
       "      <td>ind01</td>\n",
       "      <td>2023-05-10</td>\n",
       "      <td>-0.00280</td>\n",
       "    </tr>\n",
       "    <tr>\n",
       "      <th>...</th>\n",
       "      <td>...</td>\n",
       "      <td>...</td>\n",
       "      <td>...</td>\n",
       "    </tr>\n",
       "    <tr>\n",
       "      <th>331</th>\n",
       "      <td>ind31</td>\n",
       "      <td>2023-05-15</td>\n",
       "      <td>-0.00356</td>\n",
       "    </tr>\n",
       "    <tr>\n",
       "      <th>332</th>\n",
       "      <td>ind31</td>\n",
       "      <td>2023-05-16</td>\n",
       "      <td>-0.00356</td>\n",
       "    </tr>\n",
       "    <tr>\n",
       "      <th>333</th>\n",
       "      <td>ind31</td>\n",
       "      <td>2023-05-17</td>\n",
       "      <td>-0.00356</td>\n",
       "    </tr>\n",
       "    <tr>\n",
       "      <th>334</th>\n",
       "      <td>ind31</td>\n",
       "      <td>2023-05-18</td>\n",
       "      <td>-0.00357</td>\n",
       "    </tr>\n",
       "    <tr>\n",
       "      <th>335</th>\n",
       "      <td>ind31</td>\n",
       "      <td>2023-05-19</td>\n",
       "      <td>-0.00359</td>\n",
       "    </tr>\n",
       "  </tbody>\n",
       "</table>\n",
       "<p>336 rows × 3 columns</p>\n",
       "</div>"
      ],
      "text/plain": [
       "    industry  busi_date  weights\n",
       "0      ind01 2023-05-04  0.00000\n",
       "1      ind01 2023-05-05  0.00044\n",
       "2      ind01 2023-05-08 -0.00043\n",
       "3      ind01 2023-05-09 -0.00102\n",
       "4      ind01 2023-05-10 -0.00280\n",
       "..       ...        ...      ...\n",
       "331    ind31 2023-05-15 -0.00356\n",
       "332    ind31 2023-05-16 -0.00356\n",
       "333    ind31 2023-05-17 -0.00356\n",
       "334    ind31 2023-05-18 -0.00357\n",
       "335    ind31 2023-05-19 -0.00359\n",
       "\n",
       "[336 rows x 3 columns]"
      ]
     },
     "execution_count": 358,
     "metadata": {},
     "output_type": "execute_result"
    }
   ],
   "source": [
    "final = final.reset_index()\n",
    "final"
   ]
  },
  {
   "cell_type": "code",
   "execution_count": 393,
   "metadata": {},
   "outputs": [
    {
     "data": {
      "text/html": [
       "<div>\n",
       "<style scoped>\n",
       "    .dataframe tbody tr th:only-of-type {\n",
       "        vertical-align: middle;\n",
       "    }\n",
       "\n",
       "    .dataframe tbody tr th {\n",
       "        vertical-align: top;\n",
       "    }\n",
       "\n",
       "    .dataframe thead th {\n",
       "        text-align: right;\n",
       "    }\n",
       "</style>\n",
       "<table border=\"1\" class=\"dataframe\">\n",
       "  <thead>\n",
       "    <tr style=\"text-align: right;\">\n",
       "      <th></th>\n",
       "      <th>busi_date</th>\n",
       "      <th>industry</th>\n",
       "      <th>weights</th>\n",
       "    </tr>\n",
       "  </thead>\n",
       "  <tbody>\n",
       "    <tr>\n",
       "      <th>27</th>\n",
       "      <td>2023-05-19</td>\n",
       "      <td>ind01</td>\n",
       "      <td>0.00066</td>\n",
       "    </tr>\n",
       "    <tr>\n",
       "      <th>26</th>\n",
       "      <td>2023-05-19</td>\n",
       "      <td>ind02</td>\n",
       "      <td>-0.00278</td>\n",
       "    </tr>\n",
       "    <tr>\n",
       "      <th>25</th>\n",
       "      <td>2023-05-19</td>\n",
       "      <td>ind03</td>\n",
       "      <td>-0.00842</td>\n",
       "    </tr>\n",
       "    <tr>\n",
       "      <th>24</th>\n",
       "      <td>2023-05-19</td>\n",
       "      <td>ind04</td>\n",
       "      <td>-0.00015</td>\n",
       "    </tr>\n",
       "    <tr>\n",
       "      <th>23</th>\n",
       "      <td>2023-05-19</td>\n",
       "      <td>ind05</td>\n",
       "      <td>-0.00166</td>\n",
       "    </tr>\n",
       "    <tr>\n",
       "      <th>22</th>\n",
       "      <td>2023-05-19</td>\n",
       "      <td>ind06</td>\n",
       "      <td>-0.00321</td>\n",
       "    </tr>\n",
       "    <tr>\n",
       "      <th>21</th>\n",
       "      <td>2023-05-19</td>\n",
       "      <td>ind07</td>\n",
       "      <td>-0.00193</td>\n",
       "    </tr>\n",
       "    <tr>\n",
       "      <th>20</th>\n",
       "      <td>2023-05-19</td>\n",
       "      <td>ind09</td>\n",
       "      <td>-0.00160</td>\n",
       "    </tr>\n",
       "    <tr>\n",
       "      <th>19</th>\n",
       "      <td>2023-05-19</td>\n",
       "      <td>ind10</td>\n",
       "      <td>-0.00288</td>\n",
       "    </tr>\n",
       "    <tr>\n",
       "      <th>18</th>\n",
       "      <td>2023-05-19</td>\n",
       "      <td>ind11</td>\n",
       "      <td>-0.00407</td>\n",
       "    </tr>\n",
       "    <tr>\n",
       "      <th>17</th>\n",
       "      <td>2023-05-19</td>\n",
       "      <td>ind12</td>\n",
       "      <td>-0.00031</td>\n",
       "    </tr>\n",
       "    <tr>\n",
       "      <th>16</th>\n",
       "      <td>2023-05-19</td>\n",
       "      <td>ind13</td>\n",
       "      <td>-0.00111</td>\n",
       "    </tr>\n",
       "    <tr>\n",
       "      <th>15</th>\n",
       "      <td>2023-05-19</td>\n",
       "      <td>ind14</td>\n",
       "      <td>-0.00210</td>\n",
       "    </tr>\n",
       "    <tr>\n",
       "      <th>14</th>\n",
       "      <td>2023-05-19</td>\n",
       "      <td>ind15</td>\n",
       "      <td>-0.00049</td>\n",
       "    </tr>\n",
       "    <tr>\n",
       "      <th>13</th>\n",
       "      <td>2023-05-19</td>\n",
       "      <td>ind16</td>\n",
       "      <td>-0.00071</td>\n",
       "    </tr>\n",
       "    <tr>\n",
       "      <th>12</th>\n",
       "      <td>2023-05-19</td>\n",
       "      <td>ind17</td>\n",
       "      <td>0.00386</td>\n",
       "    </tr>\n",
       "    <tr>\n",
       "      <th>11</th>\n",
       "      <td>2023-05-19</td>\n",
       "      <td>ind19</td>\n",
       "      <td>-0.00109</td>\n",
       "    </tr>\n",
       "    <tr>\n",
       "      <th>10</th>\n",
       "      <td>2023-05-19</td>\n",
       "      <td>ind20</td>\n",
       "      <td>-0.00131</td>\n",
       "    </tr>\n",
       "    <tr>\n",
       "      <th>9</th>\n",
       "      <td>2023-05-19</td>\n",
       "      <td>ind21</td>\n",
       "      <td>0.00050</td>\n",
       "    </tr>\n",
       "    <tr>\n",
       "      <th>8</th>\n",
       "      <td>2023-05-19</td>\n",
       "      <td>ind22</td>\n",
       "      <td>0.00001</td>\n",
       "    </tr>\n",
       "    <tr>\n",
       "      <th>7</th>\n",
       "      <td>2023-05-19</td>\n",
       "      <td>ind23</td>\n",
       "      <td>-0.00122</td>\n",
       "    </tr>\n",
       "    <tr>\n",
       "      <th>6</th>\n",
       "      <td>2023-05-19</td>\n",
       "      <td>ind24</td>\n",
       "      <td>0.00094</td>\n",
       "    </tr>\n",
       "    <tr>\n",
       "      <th>5</th>\n",
       "      <td>2023-05-19</td>\n",
       "      <td>ind25</td>\n",
       "      <td>-0.00057</td>\n",
       "    </tr>\n",
       "    <tr>\n",
       "      <th>4</th>\n",
       "      <td>2023-05-19</td>\n",
       "      <td>ind26</td>\n",
       "      <td>-0.00543</td>\n",
       "    </tr>\n",
       "    <tr>\n",
       "      <th>3</th>\n",
       "      <td>2023-05-19</td>\n",
       "      <td>ind27</td>\n",
       "      <td>0.00080</td>\n",
       "    </tr>\n",
       "    <tr>\n",
       "      <th>2</th>\n",
       "      <td>2023-05-19</td>\n",
       "      <td>ind28</td>\n",
       "      <td>0.00103</td>\n",
       "    </tr>\n",
       "    <tr>\n",
       "      <th>1</th>\n",
       "      <td>2023-05-19</td>\n",
       "      <td>ind29</td>\n",
       "      <td>-0.00027</td>\n",
       "    </tr>\n",
       "    <tr>\n",
       "      <th>0</th>\n",
       "      <td>2023-05-19</td>\n",
       "      <td>ind31</td>\n",
       "      <td>-0.00359</td>\n",
       "    </tr>\n",
       "  </tbody>\n",
       "</table>\n",
       "</div>"
      ],
      "text/plain": [
       "    busi_date industry  weights\n",
       "27 2023-05-19    ind01  0.00066\n",
       "26 2023-05-19    ind02 -0.00278\n",
       "25 2023-05-19    ind03 -0.00842\n",
       "24 2023-05-19    ind04 -0.00015\n",
       "23 2023-05-19    ind05 -0.00166\n",
       "22 2023-05-19    ind06 -0.00321\n",
       "21 2023-05-19    ind07 -0.00193\n",
       "20 2023-05-19    ind09 -0.00160\n",
       "19 2023-05-19    ind10 -0.00288\n",
       "18 2023-05-19    ind11 -0.00407\n",
       "17 2023-05-19    ind12 -0.00031\n",
       "16 2023-05-19    ind13 -0.00111\n",
       "15 2023-05-19    ind14 -0.00210\n",
       "14 2023-05-19    ind15 -0.00049\n",
       "13 2023-05-19    ind16 -0.00071\n",
       "12 2023-05-19    ind17  0.00386\n",
       "11 2023-05-19    ind19 -0.00109\n",
       "10 2023-05-19    ind20 -0.00131\n",
       "9  2023-05-19    ind21  0.00050\n",
       "8  2023-05-19    ind22  0.00001\n",
       "7  2023-05-19    ind23 -0.00122\n",
       "6  2023-05-19    ind24  0.00094\n",
       "5  2023-05-19    ind25 -0.00057\n",
       "4  2023-05-19    ind26 -0.00543\n",
       "3  2023-05-19    ind27  0.00080\n",
       "2  2023-05-19    ind28  0.00103\n",
       "1  2023-05-19    ind29 -0.00027\n",
       "0  2023-05-19    ind31 -0.00359"
      ]
     },
     "execution_count": 393,
     "metadata": {},
     "output_type": "execute_result"
    }
   ],
   "source": [
    "recent = final\n",
    "recent = recent.groupby([\"busi_date\",\"industry\"]).sum()\n",
    "recent = recent.sort_index(ascending = False)\n",
    "recent = recent.reset_index()\n",
    "recent = recent.head(28)\n",
    "recent = recent.sort_values(\"industry\",axis=0)\n",
    "recent"
   ]
  },
  {
   "cell_type": "code",
   "execution_count": 395,
   "metadata": {},
   "outputs": [
    {
     "data": {
      "text/plain": [
       "<matplotlib.collections.PathCollection at 0x7f5ebd1ea080>"
      ]
     },
     "execution_count": 395,
     "metadata": {},
     "output_type": "execute_result"
    },
    {
     "data": {
      "image/png": "[encoded data removed]",
      "text/plain": [
       "<Figure size 2160x1008 with 1 Axes>"
      ]
     },
     "metadata": {
      "needs_background": "light"
     },
     "output_type": "display_data"
    }
   ],
   "source": [
    "boxplot = final.boxplot(by='industry', vert = False, grid=True, figsize = (30,14))\n",
    "y = [\"placeholder\"]\n",
    "y+=list(recent[\"industry\"])\n",
    "x = [np.nan]\n",
    "x+=list(recent[\"weights\"])\n",
    "plt.scatter(x, y, color = \"red\")"
   ]
  },
  {
   "cell_type": "code",
   "execution_count": null,
   "metadata": {},
   "outputs": [],
   "source": []
  }
 ],
 "metadata": {
  "kernelspec": {
   "display_name": "Python 3",
   "language": "python",
   "name": "python3"
  },
  "language_info": {
   "codemirror_mode": {
    "name": "ipython",
    "version": 3
   },
   "file_extension": ".py",
   "mimetype": "text/x-python",
   "name": "python",
   "nbconvert_exporter": "python",
   "pygments_lexer": "ipython3",
   "version": "3.6.10"
  }
 },
 "nbformat": 4,
 "nbformat_minor": 4
}
