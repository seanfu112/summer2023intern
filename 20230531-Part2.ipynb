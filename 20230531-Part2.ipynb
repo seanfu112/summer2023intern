{
 "cells": [
  {
   "cell_type": "code",
   "execution_count": 42,
   "metadata": {},
   "outputs": [],
   "source": [
    "import numpy as np\n",
    "import pandas as pd\n",
    "import matplotlib as mpl\n",
    "import matplotlib.pyplot as plt\n",
    "import matplotlib.ticker as mtick"
   ]
  },
  {
   "cell_type": "code",
   "execution_count": 43,
   "metadata": {},
   "outputs": [],
   "source": [
    "industry = pd.read_csv(\"industry.csv\")\n",
    "industry = industry.T\n",
    "industry.index = industry.index.str.lstrip()\n",
    "industry.index = industry.index.str.rstrip()\n",
    "industry = industry.T"
   ]
  },
  {
   "cell_type": "code",
   "execution_count": 3,
   "metadata": {},
   "outputs": [],
   "source": [
    "busi_dates = pd.Series(get_trading_dates(\"20230504\",\"20230519\"))"
   ]
  },
  {
   "cell_type": "code",
   "execution_count": 4,
   "metadata": {},
   "outputs": [],
   "source": [
    "components = index_components('000300.XSHG')"
   ]
  },
  {
   "cell_type": "code",
   "execution_count": 5,
   "metadata": {},
   "outputs": [],
   "source": [
    "hs300 = get_price_change_rate(components, start_date=20230504, end_date=20230519, expect_df=True).unstack().to_frame(\"price_change_rate\")"
   ]
  },
  {
   "cell_type": "code",
   "execution_count": 6,
   "metadata": {},
   "outputs": [],
   "source": [
    "hs300 = hs300.reset_index()"
   ]
  },
  {
   "cell_type": "code",
   "execution_count": 7,
   "metadata": {},
   "outputs": [],
   "source": [
    "industry = industry.sort_values(by = \"order_book_id\")\n",
    "industry = industry.reset_index(drop = True)\n",
    "industry = industry.dropna()\n",
    "industry.index = industry[\"order_book_id\"].str.replace(\" \",\"\")\n",
    "industry = industry.drop(\"order_book_id\", axis = 0)\n",
    "industry = industry.drop(\"order_book_id\", axis = 1)\n",
    "keep_rows = list(hs300[\"order_book_id\"])\n",
    "keep_rows = [*set(keep_rows)]\n",
    "industry = industry.T\n",
    "industry = industry[industry.columns.intersection(keep_rows)]\n",
    "industry = industry.T"
   ]
  },
  {
   "cell_type": "code",
   "execution_count": 8,
   "metadata": {},
   "outputs": [],
   "source": [
    "hs300 = hs300.merge(industry,on = [\"order_book_id\"])"
   ]
  },
  {
   "cell_type": "code",
   "execution_count": 9,
   "metadata": {},
   "outputs": [],
   "source": [
    "hs300.rename(columns = {'ind_number_2021':'ind'}, inplace = True)\n",
    "hs300.rename(columns = {'date':'busi_date'}, inplace = True)"
   ]
  },
  {
   "cell_type": "code",
   "execution_count": 10,
   "metadata": {},
   "outputs": [],
   "source": [
    "hs300[\"ind\"] = hs300[\"ind\"].str.replace(\" \",\"\")\n",
    "hs300[\"ind\"] = hs300[\"ind\"].str.lstrip(\"ind\")\n",
    "hs300[\"ind\"] = hs300[\"ind\"].str.zfill(2)\n",
    "hs300[\"ind\"] = \"ind\"+ hs300[\"ind\"]"
   ]
  },
  {
   "cell_type": "code",
   "execution_count": 11,
   "metadata": {},
   "outputs": [],
   "source": [
    "max_dates = busi_dates.to_frame(\"dates\")\n",
    "max_dates[\"dates\"] = pd.to_datetime(max_dates[\"dates\"])\n",
    "max_dates = max_dates.groupby([max_dates.dates.dt.year, max_dates.dates.dt.month]).max().values\n",
    "max_dates = pd.DataFrame(max_dates)"
   ]
  },
  {
   "cell_type": "code",
   "execution_count": 12,
   "metadata": {},
   "outputs": [],
   "source": [
    "max_dates.rename(columns = {0:'dates'}, inplace = True)"
   ]
  },
  {
   "cell_type": "code",
   "execution_count": 13,
   "metadata": {},
   "outputs": [],
   "source": [
    "dates = []\n",
    "for values in max_dates[\"dates\"]:\n",
    "    temp = index_weights('000300.XSHG', values).rename(values)\n",
    "    dates.append(temp)\n",
    "weights = pd.concat(dates, axis=\"columns\").T"
   ]
  },
  {
   "cell_type": "code",
   "execution_count": 14,
   "metadata": {},
   "outputs": [],
   "source": [
    "weights = weights.reindex(busi_dates)\n",
    "weights = weights.fillna(method = \"bfill\")\n",
    "weights = weights.stack().to_frame(\"weights\")\n",
    "weights.index.names = [\"busi_date\",\"order_book_id\"]"
   ]
  },
  {
   "cell_type": "code",
   "execution_count": 15,
   "metadata": {},
   "outputs": [],
   "source": [
    "weights = weights.sort_index()\n",
    "weights = weights.reset_index()\n",
    "weights = weights.sort_values(by=[\"order_book_id\",\"busi_date\"])\n",
    "weights = weights.reset_index(drop = True)"
   ]
  },
  {
   "cell_type": "code",
   "execution_count": 16,
   "metadata": {},
   "outputs": [],
   "source": [
    "weights[\"busi_date\"] = pd.to_datetime(weights[\"busi_date\"])\n",
    "weights = weights.iloc[:,[1,0,2]]"
   ]
  },
  {
   "cell_type": "code",
   "execution_count": 17,
   "metadata": {},
   "outputs": [],
   "source": [
    "hs300 = hs300.merge(weights,on = [\"order_book_id\",\"busi_date\"])"
   ]
  },
  {
   "cell_type": "code",
   "execution_count": 18,
   "metadata": {},
   "outputs": [],
   "source": [
    "hs300[\"yield\"] = hs300[\"price_change_rate\"]*hs300[\"weights\"]"
   ]
  },
  {
   "cell_type": "code",
   "execution_count": 19,
   "metadata": {},
   "outputs": [],
   "source": [
    "hs300[\"total_yield\"] = hs300[\"yield\"]/hs300[\"weights\"]\n",
    "hs300.rename(columns = {'ind':'industry'}, inplace = True)"
   ]
  },
  {
   "cell_type": "code",
   "execution_count": 20,
   "metadata": {},
   "outputs": [],
   "source": [
    "account = pd.read_csv(\"data.csv\")\n",
    "div = pd.read_csv(\"data20230523.csv\")"
   ]
  },
  {
   "cell_type": "code",
   "execution_count": 21,
   "metadata": {},
   "outputs": [],
   "source": [
    "account[\"busi_date\"] = pd.to_datetime(account[\"busi_date\"])\n",
    "div[\"busi_date\"] = pd.to_datetime(div[\"busi_date\"])\n",
    "div = div.drop(\"ttl_asset_adj\", axis=1)"
   ]
  },
  {
   "cell_type": "code",
   "execution_count": 22,
   "metadata": {},
   "outputs": [],
   "source": [
    "account = account.groupby([\"busi_date\",\"industry\",\"order_book_id\",\"hs300\"])[\"market\",\"stkcode\",\"daily_profit\",\"hs300_iweight\"].sum()"
   ]
  },
  {
   "cell_type": "code",
   "execution_count": 23,
   "metadata": {},
   "outputs": [],
   "source": [
    "account = account.reset_index()"
   ]
  },
  {
   "cell_type": "code",
   "execution_count": 24,
   "metadata": {},
   "outputs": [],
   "source": [
    "account[\"industry\"] = account[\"industry\"].str.lstrip(\"ind\")\n",
    "account[\"industry\"] = account[\"industry\"].str.zfill(2)\n",
    "account[\"industry\"] = \"ind\"+ account[\"industry\"]"
   ]
  },
  {
   "cell_type": "code",
   "execution_count": 25,
   "metadata": {},
   "outputs": [],
   "source": [
    "account = account.drop(\"hs300\", axis = 1)"
   ]
  },
  {
   "cell_type": "code",
   "execution_count": 26,
   "metadata": {},
   "outputs": [],
   "source": [
    "account = account.merge(div, on=\"busi_date\")"
   ]
  },
  {
   "cell_type": "code",
   "execution_count": 27,
   "metadata": {},
   "outputs": [],
   "source": [
    "account[\"yield\"] = account[\"daily_profit\"]/account[\"prev_ttl_asset\"]"
   ]
  },
  {
   "cell_type": "code",
   "execution_count": 28,
   "metadata": {},
   "outputs": [],
   "source": [
    "account[\"total_yield\"] = account[\"yield\"]/account[\"hs300_iweight\"]"
   ]
  },
  {
   "cell_type": "code",
   "execution_count": null,
   "metadata": {},
   "outputs": [],
   "source": []
  },
  {
   "cell_type": "code",
   "execution_count": null,
   "metadata": {},
   "outputs": [],
   "source": []
  },
  {
   "cell_type": "code",
   "execution_count": 29,
   "metadata": {},
   "outputs": [],
   "source": [
    "results = hs300.groupby([\"busi_date\",\"industry\"])[\"weights\",\"total_yield\"].sum()"
   ]
  },
  {
   "cell_type": "code",
   "execution_count": 30,
   "metadata": {},
   "outputs": [],
   "source": [
    "results2 = account.groupby([\"busi_date\",\"industry\"])[\"hs300_iweight\",\"total_yield\"].sum()"
   ]
  },
  {
   "cell_type": "code",
   "execution_count": 31,
   "metadata": {},
   "outputs": [],
   "source": [
    "results.rename(columns = {'weights':'benchmark_weight'}, inplace = True)\n",
    "results.rename(columns = {'total_yield':'benchmark_yield'}, inplace = True)\n",
    "results2.rename(columns = {'hs300_iweight':'account_weight'}, inplace = True)\n",
    "results2.rename(columns = {'total_yield':'account_yield'}, inplace = True)"
   ]
  },
  {
   "cell_type": "code",
   "execution_count": 32,
   "metadata": {},
   "outputs": [],
   "source": [
    "results = results.merge(results2, on = [\"industry\",\"busi_date\"])"
   ]
  },
  {
   "cell_type": "code",
   "execution_count": 33,
   "metadata": {},
   "outputs": [],
   "source": [
    "results = results.groupby([\"busi_date\",\"industry\"]).sum()"
   ]
  },
  {
   "cell_type": "code",
   "execution_count": 34,
   "metadata": {},
   "outputs": [],
   "source": [
    "bhb_model = pd.DataFrame(index = results.index)"
   ]
  },
  {
   "cell_type": "code",
   "execution_count": 35,
   "metadata": {},
   "outputs": [],
   "source": [
    "bhb_model[\"R^P\"] = results[\"account_weight\"]*results[\"account_yield\"]\n",
    "bhb_model[\"R^B\"] = results[\"benchmark_weight\"]*results[\"benchmark_yield\"]\n",
    "bhb_model[\"AR\"] = (results[\"account_weight\"]-results[\"benchmark_weight\"])*results[\"benchmark_yield\"]\n",
    "bhb_model[\"SR\"] = (results[\"account_yield\"]-results[\"benchmark_yield\"])*results[\"benchmark_weight\"]\n",
    "bhb_model[\"IR\"] = (results[\"account_weight\"]-results[\"benchmark_weight\"])*(results[\"account_yield\"]-results[\"benchmark_yield\"])"
   ]
  },
  {
   "cell_type": "code",
   "execution_count": 44,
   "metadata": {},
   "outputs": [
    {
     "data": {
      "text/html": [
       "<div>\n",
       "<style scoped>\n",
       "    .dataframe tbody tr th:only-of-type {\n",
       "        vertical-align: middle;\n",
       "    }\n",
       "\n",
       "    .dataframe tbody tr th {\n",
       "        vertical-align: top;\n",
       "    }\n",
       "\n",
       "    .dataframe thead th {\n",
       "        text-align: right;\n",
       "    }\n",
       "</style>\n",
       "<table border=\"1\" class=\"dataframe\">\n",
       "  <thead>\n",
       "    <tr style=\"text-align: right;\">\n",
       "      <th></th>\n",
       "      <th>busi_date</th>\n",
       "      <th>industry</th>\n",
       "      <th>R^P</th>\n",
       "      <th>R^B</th>\n",
       "      <th>AR</th>\n",
       "      <th>SR</th>\n",
       "      <th>IR</th>\n",
       "    </tr>\n",
       "  </thead>\n",
       "  <tbody>\n",
       "    <tr>\n",
       "      <th>0</th>\n",
       "      <td>2023-05-04</td>\n",
       "      <td>ind01</td>\n",
       "      <td>0.003313</td>\n",
       "      <td>0.008104</td>\n",
       "      <td>0.000000</td>\n",
       "      <td>-0.004792</td>\n",
       "      <td>-0.000000e+00</td>\n",
       "    </tr>\n",
       "    <tr>\n",
       "      <th>1</th>\n",
       "      <td>2023-05-04</td>\n",
       "      <td>ind02</td>\n",
       "      <td>-0.000442</td>\n",
       "      <td>0.003728</td>\n",
       "      <td>0.000000</td>\n",
       "      <td>-0.004170</td>\n",
       "      <td>-0.000000e+00</td>\n",
       "    </tr>\n",
       "    <tr>\n",
       "      <th>2</th>\n",
       "      <td>2023-05-04</td>\n",
       "      <td>ind03</td>\n",
       "      <td>0.000113</td>\n",
       "      <td>-0.005065</td>\n",
       "      <td>-0.000000</td>\n",
       "      <td>0.005178</td>\n",
       "      <td>0.000000e+00</td>\n",
       "    </tr>\n",
       "    <tr>\n",
       "      <th>3</th>\n",
       "      <td>2023-05-04</td>\n",
       "      <td>ind04</td>\n",
       "      <td>0.005967</td>\n",
       "      <td>0.008032</td>\n",
       "      <td>0.000000</td>\n",
       "      <td>-0.002065</td>\n",
       "      <td>-0.000000e+00</td>\n",
       "    </tr>\n",
       "    <tr>\n",
       "      <th>4</th>\n",
       "      <td>2023-05-04</td>\n",
       "      <td>ind05</td>\n",
       "      <td>-0.000681</td>\n",
       "      <td>-0.000286</td>\n",
       "      <td>0.000006</td>\n",
       "      <td>-0.000408</td>\n",
       "      <td>7.932366e-06</td>\n",
       "    </tr>\n",
       "    <tr>\n",
       "      <th>...</th>\n",
       "      <td>...</td>\n",
       "      <td>...</td>\n",
       "      <td>...</td>\n",
       "      <td>...</td>\n",
       "      <td>...</td>\n",
       "      <td>...</td>\n",
       "      <td>...</td>\n",
       "    </tr>\n",
       "    <tr>\n",
       "      <th>331</th>\n",
       "      <td>2023-05-19</td>\n",
       "      <td>ind26</td>\n",
       "      <td>-0.002155</td>\n",
       "      <td>-0.002835</td>\n",
       "      <td>0.000298</td>\n",
       "      <td>0.000427</td>\n",
       "      <td>-4.486820e-05</td>\n",
       "    </tr>\n",
       "    <tr>\n",
       "      <th>332</th>\n",
       "      <td>2023-05-19</td>\n",
       "      <td>ind27</td>\n",
       "      <td>0.000272</td>\n",
       "      <td>-0.000222</td>\n",
       "      <td>-0.000014</td>\n",
       "      <td>0.000478</td>\n",
       "      <td>3.092170e-05</td>\n",
       "    </tr>\n",
       "    <tr>\n",
       "      <th>333</th>\n",
       "      <td>2023-05-19</td>\n",
       "      <td>ind28</td>\n",
       "      <td>-0.025166</td>\n",
       "      <td>-0.036803</td>\n",
       "      <td>-0.000388</td>\n",
       "      <td>0.011900</td>\n",
       "      <td>1.253372e-04</td>\n",
       "    </tr>\n",
       "    <tr>\n",
       "      <th>334</th>\n",
       "      <td>2023-05-19</td>\n",
       "      <td>ind29</td>\n",
       "      <td>-0.000906</td>\n",
       "      <td>-0.000883</td>\n",
       "      <td>0.000017</td>\n",
       "      <td>-0.000041</td>\n",
       "      <td>7.754549e-07</td>\n",
       "    </tr>\n",
       "    <tr>\n",
       "      <th>335</th>\n",
       "      <td>2023-05-19</td>\n",
       "      <td>ind31</td>\n",
       "      <td>-0.000007</td>\n",
       "      <td>-0.000066</td>\n",
       "      <td>0.000056</td>\n",
       "      <td>0.000026</td>\n",
       "      <td>-2.157644e-05</td>\n",
       "    </tr>\n",
       "  </tbody>\n",
       "</table>\n",
       "<p>336 rows × 7 columns</p>\n",
       "</div>"
      ],
      "text/plain": [
       "     busi_date industry       R^P       R^B        AR        SR            IR\n",
       "0   2023-05-04    ind01  0.003313  0.008104  0.000000 -0.004792 -0.000000e+00\n",
       "1   2023-05-04    ind02 -0.000442  0.003728  0.000000 -0.004170 -0.000000e+00\n",
       "2   2023-05-04    ind03  0.000113 -0.005065 -0.000000  0.005178  0.000000e+00\n",
       "3   2023-05-04    ind04  0.005967  0.008032  0.000000 -0.002065 -0.000000e+00\n",
       "4   2023-05-04    ind05 -0.000681 -0.000286  0.000006 -0.000408  7.932366e-06\n",
       "..         ...      ...       ...       ...       ...       ...           ...\n",
       "331 2023-05-19    ind26 -0.002155 -0.002835  0.000298  0.000427 -4.486820e-05\n",
       "332 2023-05-19    ind27  0.000272 -0.000222 -0.000014  0.000478  3.092170e-05\n",
       "333 2023-05-19    ind28 -0.025166 -0.036803 -0.000388  0.011900  1.253372e-04\n",
       "334 2023-05-19    ind29 -0.000906 -0.000883  0.000017 -0.000041  7.754549e-07\n",
       "335 2023-05-19    ind31 -0.000007 -0.000066  0.000056  0.000026 -2.157644e-05\n",
       "\n",
       "[336 rows x 7 columns]"
      ]
     },
     "execution_count": 44,
     "metadata": {},
     "output_type": "execute_result"
    }
   ],
   "source": [
    "bhb_model"
   ]
  },
  {
   "cell_type": "code",
   "execution_count": 36,
   "metadata": {},
   "outputs": [],
   "source": [
    "bhb_model = bhb_model.reset_index()\n",
    "bhb_model_grouped = bhb_model.groupby(\"busi_date\").sum()"
   ]
  },
  {
   "cell_type": "code",
   "execution_count": 37,
   "metadata": {},
   "outputs": [],
   "source": [
    "bhb_model_grouped[\"R^A\"] = bhb_model_grouped[\"R^P\"]-bhb_model_grouped[\"R^B\"]"
   ]
  },
  {
   "cell_type": "code",
   "execution_count": 38,
   "metadata": {},
   "outputs": [],
   "source": [
    "bhb_model_grouped_colored = bhb_model_grouped.style.background_gradient(axis=0, cmap='Blues').format(\" {:.2%}\")"
   ]
  },
  {
   "cell_type": "code",
   "execution_count": 41,
   "metadata": {},
   "outputs": [
    {
     "data": {
      "text/html": [
       "<div>\n",
       "<style scoped>\n",
       "    .dataframe tbody tr th:only-of-type {\n",
       "        vertical-align: middle;\n",
       "    }\n",
       "\n",
       "    .dataframe tbody tr th {\n",
       "        vertical-align: top;\n",
       "    }\n",
       "\n",
       "    .dataframe thead th {\n",
       "        text-align: right;\n",
       "    }\n",
       "</style>\n",
       "<table border=\"1\" class=\"dataframe\">\n",
       "  <thead>\n",
       "    <tr style=\"text-align: right;\">\n",
       "      <th></th>\n",
       "      <th>R^P</th>\n",
       "      <th>R^B</th>\n",
       "      <th>AR</th>\n",
       "      <th>SR</th>\n",
       "      <th>IR</th>\n",
       "      <th>R^A</th>\n",
       "    </tr>\n",
       "    <tr>\n",
       "      <th>busi_date</th>\n",
       "      <th></th>\n",
       "      <th></th>\n",
       "      <th></th>\n",
       "      <th></th>\n",
       "      <th></th>\n",
       "      <th></th>\n",
       "    </tr>\n",
       "  </thead>\n",
       "  <tbody>\n",
       "    <tr>\n",
       "      <th>2023-05-04</th>\n",
       "      <td>0.038096</td>\n",
       "      <td>0.042861</td>\n",
       "      <td>0.002855</td>\n",
       "      <td>-0.006286</td>\n",
       "      <td>-0.001334</td>\n",
       "      <td>-0.004765</td>\n",
       "    </tr>\n",
       "    <tr>\n",
       "      <th>2023-05-05</th>\n",
       "      <td>-0.045454</td>\n",
       "      <td>-0.074132</td>\n",
       "      <td>0.004941</td>\n",
       "      <td>0.025419</td>\n",
       "      <td>-0.001683</td>\n",
       "      <td>0.028677</td>\n",
       "    </tr>\n",
       "    <tr>\n",
       "      <th>2023-05-08</th>\n",
       "      <td>0.291597</td>\n",
       "      <td>0.234994</td>\n",
       "      <td>0.004528</td>\n",
       "      <td>0.049780</td>\n",
       "      <td>0.002296</td>\n",
       "      <td>0.056603</td>\n",
       "    </tr>\n",
       "    <tr>\n",
       "      <th>2023-05-09</th>\n",
       "      <td>-0.132124</td>\n",
       "      <td>-0.129685</td>\n",
       "      <td>0.002938</td>\n",
       "      <td>-0.005030</td>\n",
       "      <td>-0.000346</td>\n",
       "      <td>-0.002439</td>\n",
       "    </tr>\n",
       "    <tr>\n",
       "      <th>2023-05-10</th>\n",
       "      <td>-0.095076</td>\n",
       "      <td>-0.135952</td>\n",
       "      <td>-0.011185</td>\n",
       "      <td>0.047057</td>\n",
       "      <td>0.005005</td>\n",
       "      <td>0.040877</td>\n",
       "    </tr>\n",
       "    <tr>\n",
       "      <th>2023-05-11</th>\n",
       "      <td>-0.022181</td>\n",
       "      <td>-0.001981</td>\n",
       "      <td>0.000074</td>\n",
       "      <td>-0.019247</td>\n",
       "      <td>-0.001026</td>\n",
       "      <td>-0.020200</td>\n",
       "    </tr>\n",
       "    <tr>\n",
       "      <th>2023-05-12</th>\n",
       "      <td>-0.156342</td>\n",
       "      <td>-0.233565</td>\n",
       "      <td>0.001170</td>\n",
       "      <td>0.076913</td>\n",
       "      <td>-0.000861</td>\n",
       "      <td>0.077222</td>\n",
       "    </tr>\n",
       "    <tr>\n",
       "      <th>2023-05-15</th>\n",
       "      <td>0.211119</td>\n",
       "      <td>0.323601</td>\n",
       "      <td>-0.000512</td>\n",
       "      <td>-0.113122</td>\n",
       "      <td>0.001151</td>\n",
       "      <td>-0.112482</td>\n",
       "    </tr>\n",
       "    <tr>\n",
       "      <th>2023-05-16</th>\n",
       "      <td>-0.070498</td>\n",
       "      <td>-0.058105</td>\n",
       "      <td>0.002078</td>\n",
       "      <td>-0.013262</td>\n",
       "      <td>-0.001209</td>\n",
       "      <td>-0.012394</td>\n",
       "    </tr>\n",
       "    <tr>\n",
       "      <th>2023-05-17</th>\n",
       "      <td>-0.059190</td>\n",
       "      <td>-0.066174</td>\n",
       "      <td>-0.001061</td>\n",
       "      <td>0.008156</td>\n",
       "      <td>-0.000111</td>\n",
       "      <td>0.006984</td>\n",
       "    </tr>\n",
       "    <tr>\n",
       "      <th>2023-05-18</th>\n",
       "      <td>-0.024537</td>\n",
       "      <td>-0.011119</td>\n",
       "      <td>-0.003558</td>\n",
       "      <td>-0.011684</td>\n",
       "      <td>0.001824</td>\n",
       "      <td>-0.013418</td>\n",
       "    </tr>\n",
       "    <tr>\n",
       "      <th>2023-05-19</th>\n",
       "      <td>-0.030811</td>\n",
       "      <td>-0.021965</td>\n",
       "      <td>-0.003117</td>\n",
       "      <td>-0.006085</td>\n",
       "      <td>0.000356</td>\n",
       "      <td>-0.008845</td>\n",
       "    </tr>\n",
       "  </tbody>\n",
       "</table>\n",
       "</div>"
      ],
      "text/plain": [
       "                 R^P       R^B        AR        SR        IR       R^A\n",
       "busi_date                                                             \n",
       "2023-05-04  0.038096  0.042861  0.002855 -0.006286 -0.001334 -0.004765\n",
       "2023-05-05 -0.045454 -0.074132  0.004941  0.025419 -0.001683  0.028677\n",
       "2023-05-08  0.291597  0.234994  0.004528  0.049780  0.002296  0.056603\n",
       "2023-05-09 -0.132124 -0.129685  0.002938 -0.005030 -0.000346 -0.002439\n",
       "2023-05-10 -0.095076 -0.135952 -0.011185  0.047057  0.005005  0.040877\n",
       "2023-05-11 -0.022181 -0.001981  0.000074 -0.019247 -0.001026 -0.020200\n",
       "2023-05-12 -0.156342 -0.233565  0.001170  0.076913 -0.000861  0.077222\n",
       "2023-05-15  0.211119  0.323601 -0.000512 -0.113122  0.001151 -0.112482\n",
       "2023-05-16 -0.070498 -0.058105  0.002078 -0.013262 -0.001209 -0.012394\n",
       "2023-05-17 -0.059190 -0.066174 -0.001061  0.008156 -0.000111  0.006984\n",
       "2023-05-18 -0.024537 -0.011119 -0.003558 -0.011684  0.001824 -0.013418\n",
       "2023-05-19 -0.030811 -0.021965 -0.003117 -0.006085  0.000356 -0.008845"
      ]
     },
     "execution_count": 41,
     "metadata": {},
     "output_type": "execute_result"
    }
   ],
   "source": [
    "bhb_model_grouped"
   ]
  },
  {
   "cell_type": "code",
   "execution_count": 39,
   "metadata": {},
   "outputs": [],
   "source": [
    "plot = pd.DataFrame(index=bhb_model_grouped.index)\n",
    "plot[\"AR\"] = bhb_model_grouped[\"AR\"]\n",
    "plot[\"SR\"] = bhb_model_grouped[\"SR\"]"
   ]
  },
  {
   "cell_type": "code",
   "execution_count": 40,
   "metadata": {},
   "outputs": [
    {
     "data": {
      "image/png": "[encoded data removed]",
      "text/plain": [
       "<Figure size 864x432 with 1 Axes>"
      ]
     },
     "metadata": {
      "needs_background": "light"
     },
     "output_type": "display_data"
    }
   ],
   "source": [
    "plt.figure(figsize=(12,6))\n",
    "ax=plt.subplot()\n",
    "plot.plot(ax=ax)\n",
    "ax.set(title=\"AR, SR图\", xlabel='日期', ylabel='百分比数值')\n",
    "ax.yaxis.set_major_formatter(mtick.PercentFormatter(xmax=1.0))"
   ]
  },
  {
   "cell_type": "code",
   "execution_count": null,
   "metadata": {},
   "outputs": [],
   "source": []
  }
 ],
 "metadata": {
  "kernelspec": {
   "display_name": "Python 3",
   "language": "python",
   "name": "python3"
  },
  "language_info": {
   "codemirror_mode": {
    "name": "ipython",
    "version": 3
   },
   "file_extension": ".py",
   "mimetype": "text/x-python",
   "name": "python",
   "nbconvert_exporter": "python",
   "pygments_lexer": "ipython3",
   "version": "3.6.10"
  }
 },
 "nbformat": 4,
 "nbformat_minor": 4
}
