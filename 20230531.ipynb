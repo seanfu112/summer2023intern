{
 "cells": [
  {
   "cell_type": "code",
   "execution_count": 53,
   "metadata": {},
   "outputs": [],
   "source": [
    "import numpy as np\n",
    "import pandas as pd\n",
    "import matplotlib as mpl\n",
    "import matplotlib.pyplot as plt\n",
    "import matplotlib.ticker as mtick"
   ]
  },
  {
   "cell_type": "code",
   "execution_count": 54,
   "metadata": {},
   "outputs": [],
   "source": [
    "industry = pd.read_csv(\"industry.csv\")\n",
    "industry = industry.T\n",
    "industry.index = industry.index.str.lstrip()\n",
    "industry.index = industry.index.str.rstrip()\n",
    "industry = industry.T"
   ]
  },
  {
   "cell_type": "code",
   "execution_count": 55,
   "metadata": {},
   "outputs": [],
   "source": [
    "busi_dates = pd.Series(get_trading_dates(\"20230504\",\"20230519\"))"
   ]
  },
  {
   "cell_type": "code",
   "execution_count": 56,
   "metadata": {},
   "outputs": [],
   "source": [
    "components = index_components('000300.XSHG')"
   ]
  },
  {
   "cell_type": "code",
   "execution_count": 57,
   "metadata": {},
   "outputs": [],
   "source": [
    "hs300 = get_price_change_rate(components, start_date=20230504, end_date=20230519, expect_df=True).unstack().to_frame(\"price_change_rate\")"
   ]
  },
  {
   "cell_type": "code",
   "execution_count": 58,
   "metadata": {},
   "outputs": [],
   "source": [
    "hs300 = hs300.reset_index()"
   ]
  },
  {
   "cell_type": "code",
   "execution_count": 59,
   "metadata": {},
   "outputs": [],
   "source": [
    "industry = industry.sort_values(by = \"order_book_id\")\n",
    "industry = industry.reset_index(drop = True)\n",
    "industry = industry.dropna()\n",
    "industry.index = industry[\"order_book_id\"].str.replace(\" \",\"\")\n",
    "industry = industry.drop(\"order_book_id\", axis = 0)\n",
    "industry = industry.drop(\"order_book_id\", axis = 1)\n",
    "keep_rows = list(hs300[\"order_book_id\"])\n",
    "keep_rows = [*set(keep_rows)]\n",
    "industry = industry.T\n",
    "industry = industry[industry.columns.intersection(keep_rows)]\n",
    "industry = industry.T"
   ]
  },
  {
   "cell_type": "code",
   "execution_count": 60,
   "metadata": {},
   "outputs": [],
   "source": [
    "hs300 = hs300.merge(industry,on = [\"order_book_id\"])"
   ]
  },
  {
   "cell_type": "code",
   "execution_count": 61,
   "metadata": {},
   "outputs": [],
   "source": [
    "hs300.rename(columns = {'ind_number_2021':'ind'}, inplace = True)\n",
    "hs300.rename(columns = {'date':'busi_date'}, inplace = True)"
   ]
  },
  {
   "cell_type": "code",
   "execution_count": 62,
   "metadata": {},
   "outputs": [],
   "source": [
    "hs300[\"ind\"] = hs300[\"ind\"].str.replace(\" \",\"\")\n",
    "hs300[\"ind\"] = hs300[\"ind\"].str.lstrip(\"ind\")\n",
    "hs300[\"ind\"] = hs300[\"ind\"].str.zfill(2)\n",
    "hs300[\"ind\"] = \"ind\"+ hs300[\"ind\"]"
   ]
  },
  {
   "cell_type": "code",
   "execution_count": 63,
   "metadata": {},
   "outputs": [],
   "source": [
    "max_dates = busi_dates.to_frame(\"dates\")\n",
    "max_dates[\"dates\"] = pd.to_datetime(max_dates[\"dates\"])\n",
    "max_dates = max_dates.groupby([max_dates.dates.dt.year, max_dates.dates.dt.month]).max().values\n",
    "max_dates = pd.DataFrame(max_dates)"
   ]
  },
  {
   "cell_type": "code",
   "execution_count": 64,
   "metadata": {},
   "outputs": [],
   "source": [
    "max_dates.rename(columns = {0:'dates'}, inplace = True)"
   ]
  },
  {
   "cell_type": "code",
   "execution_count": 65,
   "metadata": {},
   "outputs": [],
   "source": [
    "dates = []\n",
    "for values in max_dates[\"dates\"]:\n",
    "    temp = index_weights('000300.XSHG', values).rename(values)\n",
    "    dates.append(temp)\n",
    "weights = pd.concat(dates, axis=\"columns\").T"
   ]
  },
  {
   "cell_type": "code",
   "execution_count": 66,
   "metadata": {},
   "outputs": [],
   "source": [
    "weights = weights.reindex(busi_dates)\n",
    "weights = weights.fillna(method = \"bfill\")\n",
    "weights = weights.stack().to_frame(\"weights\")\n",
    "weights.index.names = [\"busi_date\",\"order_book_id\"]"
   ]
  },
  {
   "cell_type": "code",
   "execution_count": 67,
   "metadata": {},
   "outputs": [],
   "source": [
    "weights = weights.sort_index()\n",
    "weights = weights.reset_index()\n",
    "weights = weights.sort_values(by=[\"order_book_id\",\"busi_date\"])\n",
    "weights = weights.reset_index(drop = True)"
   ]
  },
  {
   "cell_type": "code",
   "execution_count": 68,
   "metadata": {},
   "outputs": [],
   "source": [
    "weights[\"busi_date\"] = pd.to_datetime(weights[\"busi_date\"])\n",
    "weights = weights.iloc[:,[1,0,2]]"
   ]
  },
  {
   "cell_type": "code",
   "execution_count": 69,
   "metadata": {},
   "outputs": [],
   "source": [
    "hs300 = hs300.merge(weights,on = [\"order_book_id\",\"busi_date\"])"
   ]
  },
  {
   "cell_type": "code",
   "execution_count": 70,
   "metadata": {},
   "outputs": [],
   "source": [
    "hs300[\"yield\"] = hs300[\"price_change_rate\"]*hs300[\"weights\"]"
   ]
  },
  {
   "cell_type": "code",
   "execution_count": 71,
   "metadata": {},
   "outputs": [
    {
     "data": {
      "text/html": [
       "<div>\n",
       "<style scoped>\n",
       "    .dataframe tbody tr th:only-of-type {\n",
       "        vertical-align: middle;\n",
       "    }\n",
       "\n",
       "    .dataframe tbody tr th {\n",
       "        vertical-align: top;\n",
       "    }\n",
       "\n",
       "    .dataframe thead th {\n",
       "        text-align: right;\n",
       "    }\n",
       "</style>\n",
       "<table border=\"1\" class=\"dataframe\">\n",
       "  <thead>\n",
       "    <tr style=\"text-align: right;\">\n",
       "      <th></th>\n",
       "      <th>order_book_id</th>\n",
       "      <th>busi_date</th>\n",
       "      <th>price_change_rate</th>\n",
       "      <th>market</th>\n",
       "      <th>stkcode</th>\n",
       "      <th>ind</th>\n",
       "      <th>weights</th>\n",
       "      <th>yield</th>\n",
       "    </tr>\n",
       "  </thead>\n",
       "  <tbody>\n",
       "    <tr>\n",
       "      <th>0</th>\n",
       "      <td>000001.XSHE</td>\n",
       "      <td>2023-05-04</td>\n",
       "      <td>0.014343</td>\n",
       "      <td>0</td>\n",
       "      <td>000001</td>\n",
       "      <td>ind17</td>\n",
       "      <td>0.00626</td>\n",
       "      <td>0.000090</td>\n",
       "    </tr>\n",
       "    <tr>\n",
       "      <th>1</th>\n",
       "      <td>000001.XSHE</td>\n",
       "      <td>2023-05-05</td>\n",
       "      <td>0.014140</td>\n",
       "      <td>0</td>\n",
       "      <td>000001</td>\n",
       "      <td>ind17</td>\n",
       "      <td>0.00626</td>\n",
       "      <td>0.000089</td>\n",
       "    </tr>\n",
       "    <tr>\n",
       "      <th>2</th>\n",
       "      <td>000001.XSHE</td>\n",
       "      <td>2023-05-08</td>\n",
       "      <td>0.031758</td>\n",
       "      <td>0</td>\n",
       "      <td>000001</td>\n",
       "      <td>ind17</td>\n",
       "      <td>0.00626</td>\n",
       "      <td>0.000199</td>\n",
       "    </tr>\n",
       "    <tr>\n",
       "      <th>3</th>\n",
       "      <td>000001.XSHE</td>\n",
       "      <td>2023-05-09</td>\n",
       "      <td>-0.012012</td>\n",
       "      <td>0</td>\n",
       "      <td>000001</td>\n",
       "      <td>ind17</td>\n",
       "      <td>0.00626</td>\n",
       "      <td>-0.000075</td>\n",
       "    </tr>\n",
       "    <tr>\n",
       "      <th>4</th>\n",
       "      <td>000001.XSHE</td>\n",
       "      <td>2023-05-10</td>\n",
       "      <td>-0.024316</td>\n",
       "      <td>0</td>\n",
       "      <td>000001</td>\n",
       "      <td>ind17</td>\n",
       "      <td>0.00626</td>\n",
       "      <td>-0.000152</td>\n",
       "    </tr>\n",
       "    <tr>\n",
       "      <th>...</th>\n",
       "      <td>...</td>\n",
       "      <td>...</td>\n",
       "      <td>...</td>\n",
       "      <td>...</td>\n",
       "      <td>...</td>\n",
       "      <td>...</td>\n",
       "      <td>...</td>\n",
       "      <td>...</td>\n",
       "    </tr>\n",
       "    <tr>\n",
       "      <th>3595</th>\n",
       "      <td>688981.XSHG</td>\n",
       "      <td>2023-05-15</td>\n",
       "      <td>0.021978</td>\n",
       "      <td>1</td>\n",
       "      <td>688981</td>\n",
       "      <td>ind20</td>\n",
       "      <td>0.00620</td>\n",
       "      <td>0.000136</td>\n",
       "    </tr>\n",
       "    <tr>\n",
       "      <th>3596</th>\n",
       "      <td>688981.XSHG</td>\n",
       "      <td>2023-05-16</td>\n",
       "      <td>-0.011299</td>\n",
       "      <td>1</td>\n",
       "      <td>688981</td>\n",
       "      <td>ind20</td>\n",
       "      <td>0.00620</td>\n",
       "      <td>-0.000070</td>\n",
       "    </tr>\n",
       "    <tr>\n",
       "      <th>3597</th>\n",
       "      <td>688981.XSHG</td>\n",
       "      <td>2023-05-17</td>\n",
       "      <td>-0.000922</td>\n",
       "      <td>1</td>\n",
       "      <td>688981</td>\n",
       "      <td>ind20</td>\n",
       "      <td>0.00620</td>\n",
       "      <td>-0.000006</td>\n",
       "    </tr>\n",
       "    <tr>\n",
       "      <th>3598</th>\n",
       "      <td>688981.XSHG</td>\n",
       "      <td>2023-05-18</td>\n",
       "      <td>0.016605</td>\n",
       "      <td>1</td>\n",
       "      <td>688981</td>\n",
       "      <td>ind20</td>\n",
       "      <td>0.00620</td>\n",
       "      <td>0.000103</td>\n",
       "    </tr>\n",
       "    <tr>\n",
       "      <th>3599</th>\n",
       "      <td>688981.XSHG</td>\n",
       "      <td>2023-05-19</td>\n",
       "      <td>-0.001815</td>\n",
       "      <td>1</td>\n",
       "      <td>688981</td>\n",
       "      <td>ind20</td>\n",
       "      <td>0.00620</td>\n",
       "      <td>-0.000011</td>\n",
       "    </tr>\n",
       "  </tbody>\n",
       "</table>\n",
       "<p>3600 rows × 8 columns</p>\n",
       "</div>"
      ],
      "text/plain": [
       "     order_book_id  busi_date  price_change_rate     market     stkcode  \\\n",
       "0      000001.XSHE 2023-05-04           0.014343   0          000001      \n",
       "1      000001.XSHE 2023-05-05           0.014140   0          000001      \n",
       "2      000001.XSHE 2023-05-08           0.031758   0          000001      \n",
       "3      000001.XSHE 2023-05-09          -0.012012   0          000001      \n",
       "4      000001.XSHE 2023-05-10          -0.024316   0          000001      \n",
       "...            ...        ...                ...        ...         ...   \n",
       "3595   688981.XSHG 2023-05-15           0.021978   1          688981      \n",
       "3596   688981.XSHG 2023-05-16          -0.011299   1          688981      \n",
       "3597   688981.XSHG 2023-05-17          -0.000922   1          688981      \n",
       "3598   688981.XSHG 2023-05-18           0.016605   1          688981      \n",
       "3599   688981.XSHG 2023-05-19          -0.001815   1          688981      \n",
       "\n",
       "        ind  weights     yield  \n",
       "0     ind17  0.00626  0.000090  \n",
       "1     ind17  0.00626  0.000089  \n",
       "2     ind17  0.00626  0.000199  \n",
       "3     ind17  0.00626 -0.000075  \n",
       "4     ind17  0.00626 -0.000152  \n",
       "...     ...      ...       ...  \n",
       "3595  ind20  0.00620  0.000136  \n",
       "3596  ind20  0.00620 -0.000070  \n",
       "3597  ind20  0.00620 -0.000006  \n",
       "3598  ind20  0.00620  0.000103  \n",
       "3599  ind20  0.00620 -0.000011  \n",
       "\n",
       "[3600 rows x 8 columns]"
      ]
     },
     "execution_count": 71,
     "metadata": {},
     "output_type": "execute_result"
    }
   ],
   "source": [
    "hs300"
   ]
  },
  {
   "cell_type": "code",
   "execution_count": 72,
   "metadata": {},
   "outputs": [],
   "source": [
    "ind_yields = hs300.groupby([\"ind\"])[\"yield\",\"weights\"].sum()"
   ]
  },
  {
   "cell_type": "code",
   "execution_count": 73,
   "metadata": {},
   "outputs": [],
   "source": [
    "ind_yields = pd.DataFrame({\"Results\": ind_yields[\"yield\"]/ind_yields[\"weights\"]})"
   ]
  },
  {
   "cell_type": "code",
   "execution_count": null,
   "metadata": {},
   "outputs": [],
   "source": []
  },
  {
   "cell_type": "code",
   "execution_count": null,
   "metadata": {},
   "outputs": [],
   "source": []
  },
  {
   "cell_type": "code",
   "execution_count": null,
   "metadata": {},
   "outputs": [],
   "source": []
  },
  {
   "cell_type": "code",
   "execution_count": null,
   "metadata": {},
   "outputs": [],
   "source": []
  },
  {
   "cell_type": "code",
   "execution_count": 75,
   "metadata": {},
   "outputs": [],
   "source": [
    "account = pd.read_csv(\"data.csv\")\n",
    "div = pd.read_csv(\"data20230523.csv\")"
   ]
  },
  {
   "cell_type": "code",
   "execution_count": 76,
   "metadata": {},
   "outputs": [],
   "source": [
    "account[\"busi_date\"] = pd.to_datetime(account[\"busi_date\"])\n",
    "div[\"busi_date\"] = pd.to_datetime(div[\"busi_date\"])\n",
    "div = div.drop(\"ttl_asset_adj\", axis=1)"
   ]
  },
  {
   "cell_type": "code",
   "execution_count": 77,
   "metadata": {},
   "outputs": [],
   "source": [
    "account = account.groupby([\"busi_date\",\"industry\",\"order_book_id\",\"hs300\"])[\"market\",\"stkcode\",\"daily_profit\",\"hs300_iweight\"].sum()"
   ]
  },
  {
   "cell_type": "code",
   "execution_count": 78,
   "metadata": {},
   "outputs": [],
   "source": [
    "account = account.reset_index()"
   ]
  },
  {
   "cell_type": "code",
   "execution_count": 79,
   "metadata": {},
   "outputs": [],
   "source": [
    "# account[\"industry\"] = account[\"industry\"].str.replace(\" \",\"\")\n",
    "account[\"industry\"] = account[\"industry\"].str.lstrip(\"ind\")\n",
    "account[\"industry\"] = account[\"industry\"].str.zfill(2)\n",
    "account[\"industry\"] = \"ind\"+ account[\"industry\"]"
   ]
  },
  {
   "cell_type": "code",
   "execution_count": 80,
   "metadata": {},
   "outputs": [],
   "source": [
    "account = account.drop(\"hs300\", axis = 1)"
   ]
  },
  {
   "cell_type": "code",
   "execution_count": 81,
   "metadata": {},
   "outputs": [],
   "source": [
    "account = account.merge(div, on=\"busi_date\")"
   ]
  },
  {
   "cell_type": "code",
   "execution_count": 82,
   "metadata": {},
   "outputs": [],
   "source": [
    "account[\"yield\"] = account[\"daily_profit\"]/account[\"prev_ttl_asset\"]"
   ]
  },
  {
   "cell_type": "code",
   "execution_count": 83,
   "metadata": {},
   "outputs": [],
   "source": [
    "account_ind_yields = account.groupby([\"industry\"])[\"yield\",\"hs300_iweight\"].sum()"
   ]
  },
  {
   "cell_type": "code",
   "execution_count": 84,
   "metadata": {},
   "outputs": [],
   "source": [
    "account_ind_yields[\"total_yield\"] = account_ind_yields[\"yield\"]/account_ind_yields[\"hs300_iweight\"]"
   ]
  },
  {
   "cell_type": "code",
   "execution_count": 85,
   "metadata": {},
   "outputs": [],
   "source": [
    "results = pd.DataFrame(index = account_ind_yields.index)"
   ]
  },
  {
   "cell_type": "code",
   "execution_count": 86,
   "metadata": {},
   "outputs": [],
   "source": [
    "results[\"Account\"] = ind_yields[\"Results\"]\n",
    "results[\"Benchmark\"] = account_ind_yields[\"total_yield\"]"
   ]
  },
  {
   "cell_type": "code",
   "execution_count": null,
   "metadata": {},
   "outputs": [],
   "source": []
  },
  {
   "cell_type": "code",
   "execution_count": 87,
   "metadata": {},
   "outputs": [
    {
     "data": {
      "image/png": "[encoded data removed]",
      "text/plain": [
       "<Figure size 1440x864 with 1 Axes>"
      ]
     },
     "metadata": {
      "needs_background": "light"
     },
     "output_type": "display_data"
    }
   ],
   "source": [
    "import matplotlib.ticker as mtick\n",
    "plt.figure(figsize=(20,12))\n",
    "\n",
    "ax=plt.subplot()\n",
    "results.plot(kind='bar', ax=ax)\n",
    "ax.set(title=\"账户指数行业累计收益率对比图\", xlabel='行业', ylabel='收益率')\n",
    "ax.set_xticklabels(results.index,rotation=45)\n",
    "ax.legend(loc=\"best\")\n",
    "ax.yaxis.set_major_formatter(mtick.PercentFormatter(xmax=1.0))\n"
   ]
  },
  {
   "cell_type": "code",
   "execution_count": null,
   "metadata": {},
   "outputs": [],
   "source": []
  },
  {
   "cell_type": "code",
   "execution_count": null,
   "metadata": {},
   "outputs": [],
   "source": []
  }
 ],
 "metadata": {
  "kernelspec": {
   "display_name": "Python 3",
   "language": "python",
   "name": "python3"
  },
  "language_info": {
   "codemirror_mode": {
    "name": "ipython",
    "version": 3
   },
   "file_extension": ".py",
   "mimetype": "text/x-python",
   "name": "python",
   "nbconvert_exporter": "python",
   "pygments_lexer": "ipython3",
   "version": "3.6.10"
  }
 },
 "nbformat": 4,
 "nbformat_minor": 4
}
