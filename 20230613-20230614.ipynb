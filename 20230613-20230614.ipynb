{
 "cells": [
  {
   "cell_type": "code",
   "execution_count": 147,
   "metadata": {},
   "outputs": [],
   "source": [
    "import numpy as np\n",
    "import pandas as pd\n",
    "import matplotlib as mpl\n",
    "import matplotlib.pyplot as plt\n",
    "import matplotlib.ticker as mtick\n",
    "pd.set_option(\"display.max_rows\", 100)"
   ]
  },
  {
   "cell_type": "code",
   "execution_count": 148,
   "metadata": {},
   "outputs": [],
   "source": [
    "# read csv files orders and positions\n",
    "position = pd.read_csv(\"positions.csv\")\n",
    "order = pd.read_csv(\"orders.csv\")\n",
    "\n",
    "position[\"time\"] = pd.to_datetime(position[\"time\"])\n",
    "order[\"time\"] = pd.to_datetime(order[\"time\"])\n",
    "\n",
    "position[\"date\"] = pd.to_datetime(position[\"time\"].dt.date)\n",
    "order[\"date\"] = pd.to_datetime(order[\"time\"].dt.date)\n",
    "dates = pd.Index(pd.to_datetime(get_trading_dates(\"20230103\", \"20230428\", market='cn')),name=\"date\")"
   ]
  },
  {
   "cell_type": "code",
   "execution_count": 149,
   "metadata": {},
   "outputs": [],
   "source": [
    "order = order[order[\"filled\"]!=0]"
   ]
  },
  {
   "cell_type": "code",
   "execution_count": 150,
   "metadata": {},
   "outputs": [],
   "source": [
    "temp = pd.DataFrame(order[[\"security\",\"security_name\",\"date\",\"amount\",\"action\",\"filled\",\"price\"]])\n",
    "temp[\"direction\"] = temp[\"action\"].map(lambda x: 1 if x == \"open\" else -1)\n",
    "temp[\"direction\"] = temp[\"direction\"] * temp[\"filled\"]"
   ]
  },
  {
   "cell_type": "code",
   "execution_count": 151,
   "metadata": {},
   "outputs": [],
   "source": [
    "temp1 = temp.pivot_table(index = \"date\", columns = \"security\", values = \"direction\",aggfunc = \"sum\")"
   ]
  },
  {
   "cell_type": "code",
   "execution_count": 152,
   "metadata": {},
   "outputs": [],
   "source": [
    "temp1 = temp1.reindex(dates)\n",
    "temp1 = temp1.fillna(0)\n",
    "temp1 = temp1.cumsum()"
   ]
  },
  {
   "cell_type": "code",
   "execution_count": 153,
   "metadata": {},
   "outputs": [],
   "source": [
    "open_filter = (temp1>0) & (temp1.shift(1).fillna(0.) == 0)\n",
    "holding_filter = (temp1>0) & (temp1.shift(1).fillna(0.) > 0)\n",
    "close_filter = (temp1==0) & (temp1.shift(1).fillna(0.) > 0 )"
   ]
  },
  {
   "cell_type": "code",
   "execution_count": 154,
   "metadata": {},
   "outputs": [],
   "source": [
    "open = temp1.where(open_filter,other = np.nan)\n",
    "open = open.stack().to_frame()\n",
    "open = open.reset_index()"
   ]
  },
  {
   "cell_type": "code",
   "execution_count": 155,
   "metadata": {},
   "outputs": [],
   "source": [
    "open[\"rank\"] = open.groupby([\"security\"]).cumcount()+1"
   ]
  },
  {
   "cell_type": "code",
   "execution_count": 156,
   "metadata": {
    "scrolled": false
   },
   "outputs": [],
   "source": [
    "temp2 = open.pivot_table(index = \"date\", columns = \"security\", values = \"rank\")\n",
    "temp2 = temp2.reindex(dates)"
   ]
  },
  {
   "cell_type": "code",
   "execution_count": 157,
   "metadata": {
    "scrolled": false
   },
   "outputs": [],
   "source": [
    "temp2 = temp2.where(open_filter|holding_filter|close_filter,other = -9999)\n",
    "temp2 = temp2.ffill(axis=0)"
   ]
  },
  {
   "cell_type": "code",
   "execution_count": 158,
   "metadata": {},
   "outputs": [],
   "source": [
    "temp2 = temp2.replace({-9999:np.nan})"
   ]
  },
  {
   "cell_type": "code",
   "execution_count": 159,
   "metadata": {
    "scrolled": false
   },
   "outputs": [],
   "source": [
    "temp2 = temp2.stack().to_frame(\"rank\").reset_index()"
   ]
  },
  {
   "cell_type": "code",
   "execution_count": 160,
   "metadata": {},
   "outputs": [],
   "source": [
    "temp2[\"orderid\"] = temp2[\"security\"]+temp2[\"rank\"].astype(int).astype(str).str.zfill(3)"
   ]
  },
  {
   "cell_type": "code",
   "execution_count": 161,
   "metadata": {},
   "outputs": [],
   "source": [
    "temp2[\"date\"] = pd.to_datetime(temp2[\"date\"])"
   ]
  },
  {
   "cell_type": "code",
   "execution_count": 162,
   "metadata": {},
   "outputs": [],
   "source": [
    "result = temp.copy()\n",
    "result = result.merge(temp2,on=[\"date\",\"security\"],how = \"left\")"
   ]
  },
  {
   "cell_type": "code",
   "execution_count": 163,
   "metadata": {},
   "outputs": [],
   "source": [
    "# result[result[\"security\"]==\"002719.XSHE\"]"
   ]
  },
  {
   "cell_type": "code",
   "execution_count": 164,
   "metadata": {},
   "outputs": [],
   "source": [
    "avg_price = result.groupby([\"orderid\",\"date\"]).apply(lambda x: sum(x[\"price\"]*x[\"filled\"])/sum(x[\"amount\"])).to_frame(\"avg_price\")\n",
    "avg_price = avg_price.reset_index()"
   ]
  },
  {
   "cell_type": "code",
   "execution_count": 165,
   "metadata": {},
   "outputs": [],
   "source": [
    "result = result.merge(avg_price,on = [\"date\",\"orderid\"])"
   ]
  },
  {
   "cell_type": "code",
   "execution_count": 166,
   "metadata": {},
   "outputs": [],
   "source": [
    "times = order.pivot_table(index = [\"security\",\"date\",\"filled\"], columns = \"action\",values = \"time\",aggfunc = \"min\")\n",
    "times[\"open\"] = times[\"open\"].ffill(axis='rows')\n",
    "times = times.rename(columns = {\"close\":\"close_time\", \"open\":\"open_time\"})\n",
    "times = times[[\"open_time\",\"close_time\"]].reset_index()"
   ]
  },
  {
   "cell_type": "code",
   "execution_count": 167,
   "metadata": {},
   "outputs": [],
   "source": [
    "result = result.merge(times, on = [\"security\",\"date\",\"filled\"])"
   ]
  },
  {
   "cell_type": "code",
   "execution_count": 168,
   "metadata": {},
   "outputs": [],
   "source": [
    "# result[result[\"security\"]==\"002719.XSHE\"]"
   ]
  },
  {
   "cell_type": "code",
   "execution_count": 169,
   "metadata": {},
   "outputs": [],
   "source": [
    "avg_price_new = result.pivot_table(index = [\"orderid\"], columns = \"action\",values = \"avg_price\")\n",
    "avg_price_new = avg_price_new.rename(columns = {\"close\" : \"avg_sell_price\",\"open\" : \"avg_buy_price\"})\n",
    "avg_price_new = avg_price_new[[\"avg_buy_price\",\"avg_sell_price\"]]"
   ]
  },
  {
   "cell_type": "code",
   "execution_count": 170,
   "metadata": {},
   "outputs": [],
   "source": [
    "trade_qty = result.pivot_table(index = [\"orderid\"], columns = \"action\",values = \"amount\",aggfunc = \"sum\")\n",
    "trade_qty[\"trade_qty\"] = trade_qty[\"open\"]\n",
    "trade_qty = trade_qty.drop([\"close\",\"open\"],axis=1).reset_index()"
   ]
  },
  {
   "cell_type": "code",
   "execution_count": 171,
   "metadata": {},
   "outputs": [],
   "source": [
    "new_times = result[result[\"action\"]==\"close\"][[\"orderid\",\"security\",\"open_time\",\"close_time\"]]\n",
    "# new_times[new_times[\"security\"]==\"002719.XSHE\"]"
   ]
  },
  {
   "cell_type": "code",
   "execution_count": null,
   "metadata": {},
   "outputs": [],
   "source": []
  },
  {
   "cell_type": "code",
   "execution_count": null,
   "metadata": {},
   "outputs": [],
   "source": []
  },
  {
   "cell_type": "code",
   "execution_count": null,
   "metadata": {},
   "outputs": [],
   "source": []
  },
  {
   "cell_type": "code",
   "execution_count": 172,
   "metadata": {},
   "outputs": [],
   "source": [
    "new_results = new_times.merge(avg_price_new, on = [\"orderid\"])"
   ]
  },
  {
   "cell_type": "code",
   "execution_count": 173,
   "metadata": {},
   "outputs": [],
   "source": [
    "new_results = new_results.merge(trade_qty, on = [\"orderid\"])"
   ]
  },
  {
   "cell_type": "code",
   "execution_count": 174,
   "metadata": {},
   "outputs": [],
   "source": [
    "new_results[\"price_change\"] = (new_results[\"avg_sell_price\"]/new_results[\"avg_buy_price\"])-1\n",
    "new_results[\"profit/deficit\"] = (new_results[\"avg_sell_price\"]*new_results[\"trade_qty\"])-(new_results[\"avg_buy_price\"]*new_results[\"trade_qty\"])"
   ]
  },
  {
   "cell_type": "code",
   "execution_count": 175,
   "metadata": {},
   "outputs": [],
   "source": [
    "# win_value = new_results[new_results[\"profit/deficit\"] > 0].shape[0] / new_results.shape[0]\n",
    "# win_rate = f\"{(win_value)*100}%\"\n",
    "# win_rate"
   ]
  },
  {
   "cell_type": "code",
   "execution_count": 176,
   "metadata": {},
   "outputs": [
    {
     "data": {
      "text/plain": [
       "-1.3310052517246922"
      ]
     },
     "execution_count": 176,
     "metadata": {},
     "output_type": "execute_result"
    }
   ],
   "source": [
    "ratio = new_results[\"price_change\"][new_results[\"price_change\"] > 0].mean()/new_results[\"price_change\"][new_results[\"price_change\"] < 0].mean()\n",
    "ratio"
   ]
  },
  {
   "cell_type": "code",
   "execution_count": 177,
   "metadata": {},
   "outputs": [],
   "source": [
    "bins=list(np.arange(-0.2,0.4,0.01).round(2))"
   ]
  },
  {
   "cell_type": "code",
   "execution_count": 178,
   "metadata": {},
   "outputs": [
    {
     "data": {
      "image/png": "[encoded data removed]",
      "text/plain": [
       "<Figure size 1440x576 with 1 Axes>"
      ]
     },
     "metadata": {
      "needs_background": "light"
     },
     "output_type": "display_data"
    }
   ],
   "source": [
    "ax = new_results[\"price_change\"].plot(kind='hist', bins=bins, title='收益率分布圖', grid=True, figsize=(20,8))\n",
    "plt.xticks(bins,rotation = 45)\n",
    "plt.xlabel('收益率')\n",
    "plt.ylabel(\"數值\")\n",
    "plt.axvline(x = new_results[\"price_change\"].mean(), color = 'r')\n",
    "ax.xaxis.set_major_formatter(mtick.PercentFormatter(1.0))"
   ]
  },
  {
   "cell_type": "code",
   "execution_count": 179,
   "metadata": {},
   "outputs": [],
   "source": [
    "new_results[\"date\"] = pd.to_datetime(new_results[\"open_time\"].dt.date)"
   ]
  },
  {
   "cell_type": "code",
   "execution_count": 180,
   "metadata": {},
   "outputs": [],
   "source": [
    "codes = [*set(list(new_results[\"security\"]))]\n",
    "prices = get_price(codes, \"20230103\", \"20230428\")[[\"high\",\"limit_up\",\"open\",\"close\"]]\n",
    "prices = prices.reset_index()\n",
    "prices[prices[\"order_book_id\"]==\"301075.XSHE\"]\n",
    "prices[\"date\"] = pd.to_datetime(prices[\"date\"])\n",
    "prices = prices.rename(columns = {\"order_book_id\":\"security\", \"open\": \"open_price\", \"close\": \"close_price\"})"
   ]
  },
  {
   "cell_type": "code",
   "execution_count": 181,
   "metadata": {},
   "outputs": [],
   "source": [
    "new_results = new_results.merge(prices, on = [\"security\",\"date\"])"
   ]
  },
  {
   "cell_type": "code",
   "execution_count": 182,
   "metadata": {},
   "outputs": [],
   "source": [
    "new_results[\"profit_rate_x\"] = (new_results[\"close_price\"] / new_results[\"avg_buy_price\"]) -1\n",
    "new_results[\"profit_rate_y\"] = (new_results[\"avg_sell_price\"] / new_results[\"close_price\"]) -1"
   ]
  },
  {
   "cell_type": "code",
   "execution_count": 183,
   "metadata": {},
   "outputs": [],
   "source": [
    "# new_results"
   ]
  },
  {
   "cell_type": "code",
   "execution_count": 184,
   "metadata": {
    "scrolled": false
   },
   "outputs": [
    {
     "data": {
      "image/png": "[encoded data removed]",
      "text/plain": [
       "<Figure size 1440x720 with 1 Axes>"
      ]
     },
     "metadata": {
      "needs_background": "light"
     },
     "output_type": "display_data"
    }
   ],
   "source": [
    "x = new_results[\"profit_rate_x\"]\n",
    "y = new_results[\"profit_rate_y\"]\n",
    "slategrey = (x > 0) & (y > 0)\n",
    "darkblue = (x < 0) & (y < 0)\n",
    "lightseagreen = (x > 0) & (y < 0)\n",
    "coral = (x < 0) & (y > 0)\n",
    "red = (x==0) | (y==0)\n",
    "\n",
    "label1 = f\"{(len(x[slategrey])/len(x)*100):.2f}%\"\n",
    "label2 = f\"{(len(x[darkblue])/len(x)*100):.2f}%\"\n",
    "label3 = f\"{(len(x[lightseagreen])/len(x)*100):.2f}%\"\n",
    "label4 = f\"{(len(x[coral])/len(x)*100):.2f}%\"\n",
    "\n",
    "plt.figure(figsize = (20,10))\n",
    "plt.scatter(x[slategrey], y[slategrey], color = 'slategrey', alpha = 0.5)\n",
    "plt.scatter(x[darkblue], y[darkblue], color = 'darkblue', alpha = 0.5)\n",
    "plt.scatter(x[lightseagreen], y[lightseagreen], color = 'lightseagreen', alpha = 0.5)\n",
    "plt.scatter(x[coral], y[coral], color = 'coral', alpha = 0.5)\n",
    "plt.scatter(x[red], y[red], color = 'red', alpha = 0.5)\n",
    "\n",
    "\n",
    "plt.axvline(x = 0, color = 'black', alpha = 0.5)\n",
    "plt.axhline(y = 0, color = 'black', alpha = 0.5)\n",
    "\n",
    "\n",
    "plt.annotate(label1,(0.1,0.6))\n",
    "plt.annotate(label2,(-0.15,-0.1))\n",
    "plt.annotate(label3,(0.1,-0.1))\n",
    "plt.annotate(label4,(-0.15,0.6))\n",
    "\n",
    "\n",
    "plt.title('交易分析')\n",
    "plt.xlabel('开仓当日累计收益率')\n",
    "plt.ylabel(\"扣除开仓当日累计收益率\")\n",
    "plt.gca().xaxis.set_major_formatter(mtick.PercentFormatter(1.0))\n",
    "plt.gca().yaxis.set_major_formatter(mtick.PercentFormatter(1.0))"
   ]
  },
  {
   "cell_type": "code",
   "execution_count": 185,
   "metadata": {},
   "outputs": [],
   "source": [
    "new_results[\"hit_limit\"] = new_results[\"high\"] == new_results[\"limit_up\"]\n",
    "new_results[\"profit\"] = new_results[\"profit/deficit\"] > 0"
   ]
  },
  {
   "cell_type": "code",
   "execution_count": 186,
   "metadata": {},
   "outputs": [],
   "source": [
    "limits = pd.DataFrame(new_results[new_results[\"price_change\"].between(-0.1,0.1)])"
   ]
  },
  {
   "cell_type": "code",
   "execution_count": 187,
   "metadata": {},
   "outputs": [],
   "source": [
    "groups=list(np.arange(-0.1,0.11,0.01).round(2))\n",
    "limits[\"區間\"] = pd.cut(limits[\"price_change\"], bins = groups).to_frame()"
   ]
  },
  {
   "cell_type": "code",
   "execution_count": 188,
   "metadata": {},
   "outputs": [],
   "source": [
    "temp = limits[[\"區間\",\"orderid\",\"hit_limit\",\"profit_rate_y\"]]\n",
    "\n",
    "grp = temp.groupby(\"區間\")\n",
    "df1 = grp.size().to_frame('數量')\n",
    "df2 = (grp.apply(lambda i: i[i['profit_rate_y'] > 0].shape[0]) / grp['profit_rate_y'].count()).to_frame('勝率')\n",
    "df3 = (grp.apply(lambda i: i[i['profit_rate_y'] < 0].shape[0]) / grp['profit_rate_y'].count()).to_frame('賠率')\n",
    "df4 = grp.apply(lambda i: i.loc[i['profit_rate_y'] > 0, 'profit_rate_y'].mean() / i.loc[i['profit_rate_y'] < 0, 'profit_rate_y'].mean()).abs().to_frame('盈虧比')\n",
    "\n",
    "temp2 = limits[[\"區間\",\"orderid\",\"hit_limit\",\"profit_rate_y\"]]\n",
    "temp2 = temp2[temp2[\"hit_limit\"]==False]\n",
    "\n",
    "grp2 = temp2.groupby(\"區間\")\n",
    "df5 = grp2.size().to_frame('非漲停股數量')\n",
    "df6 = (grp2.apply(lambda i: i[i['profit_rate_y'] > 0].shape[0]) / grp2['profit_rate_y'].count()).to_frame('去處漲停股後的勝率')\n",
    "df7 = (grp2.apply(lambda i: i[i['profit_rate_y'] < 0].shape[0]) / grp2['profit_rate_y'].count()).to_frame('去處漲停股後的賠率')\n",
    "df8 = grp2.apply(lambda i: i.loc[i['profit_rate_y'] > 0, 'profit_rate_y'].mean() / i.loc[i['profit_rate_y'] < 0, 'profit_rate_y'].mean()).abs().to_frame('去處漲停股後的盈虧比')\n",
    "\n",
    "\n",
    "final = df1.join([df2,df3,df4,df5,df6,df7,df8])"
   ]
  },
  {
   "cell_type": "code",
   "execution_count": 189,
   "metadata": {},
   "outputs": [],
   "source": [
    "final[\"凱利公式\"] = (final[\"勝率\"]*final[\"盈虧比\"]-final[\"賠率\"])/final[\"盈虧比\"]\n",
    "final[\"去處漲停股後的凱利公式\"] = (final[\"去處漲停股後的勝率\"]*final[\"去處漲停股後的盈虧比\"]-final[\"去處漲停股後的賠率\"])/final[\"去處漲停股後的盈虧比\"]\n",
    "final[\"漲停股數量\"] = final[\"數量\"] - final[\"非漲停股數量\"]"
   ]
  },
  {
   "cell_type": "code",
   "execution_count": 190,
   "metadata": {},
   "outputs": [],
   "source": [
    "final = final[[\"數量\",\"勝率\",\"盈虧比\",\"凱利公式\",\"漲停股數量\",\"去處漲停股後的勝率\",\"去處漲停股後的盈虧比\",\"去處漲停股後的凱利公式\"]]"
   ]
  },
  {
   "cell_type": "code",
   "execution_count": 191,
   "metadata": {},
   "outputs": [
    {
     "data": {
      "text/html": [
       "<div>\n",
       "<style scoped>\n",
       "    .dataframe tbody tr th:only-of-type {\n",
       "        vertical-align: middle;\n",
       "    }\n",
       "\n",
       "    .dataframe tbody tr th {\n",
       "        vertical-align: top;\n",
       "    }\n",
       "\n",
       "    .dataframe thead th {\n",
       "        text-align: right;\n",
       "    }\n",
       "</style>\n",
       "<table border=\"1\" class=\"dataframe\">\n",
       "  <thead>\n",
       "    <tr style=\"text-align: right;\">\n",
       "      <th></th>\n",
       "      <th>數量</th>\n",
       "      <th>勝率</th>\n",
       "      <th>盈虧比</th>\n",
       "      <th>凱利公式</th>\n",
       "      <th>漲停股數量</th>\n",
       "      <th>去處漲停股後的勝率</th>\n",
       "      <th>去處漲停股後的盈虧比</th>\n",
       "      <th>去處漲停股後的凱利公式</th>\n",
       "    </tr>\n",
       "    <tr>\n",
       "      <th>區間</th>\n",
       "      <th></th>\n",
       "      <th></th>\n",
       "      <th></th>\n",
       "      <th></th>\n",
       "      <th></th>\n",
       "      <th></th>\n",
       "      <th></th>\n",
       "      <th></th>\n",
       "    </tr>\n",
       "  </thead>\n",
       "  <tbody>\n",
       "    <tr>\n",
       "      <th>(-0.1, -0.09]</th>\n",
       "      <td>3</td>\n",
       "      <td>0.000000</td>\n",
       "      <td>NaN</td>\n",
       "      <td>NaN</td>\n",
       "      <td>0</td>\n",
       "      <td>0.000000</td>\n",
       "      <td>NaN</td>\n",
       "      <td>NaN</td>\n",
       "    </tr>\n",
       "    <tr>\n",
       "      <th>(-0.09, -0.08]</th>\n",
       "      <td>2</td>\n",
       "      <td>0.500000</td>\n",
       "      <td>2.251847</td>\n",
       "      <td>0.277960</td>\n",
       "      <td>0</td>\n",
       "      <td>0.500000</td>\n",
       "      <td>2.251847</td>\n",
       "      <td>0.277960</td>\n",
       "    </tr>\n",
       "    <tr>\n",
       "      <th>(-0.08, -0.07]</th>\n",
       "      <td>6</td>\n",
       "      <td>0.166667</td>\n",
       "      <td>1.546704</td>\n",
       "      <td>-0.372113</td>\n",
       "      <td>0</td>\n",
       "      <td>0.166667</td>\n",
       "      <td>1.546704</td>\n",
       "      <td>-0.372113</td>\n",
       "    </tr>\n",
       "    <tr>\n",
       "      <th>(-0.07, -0.06]</th>\n",
       "      <td>10</td>\n",
       "      <td>0.200000</td>\n",
       "      <td>9.532984</td>\n",
       "      <td>0.116081</td>\n",
       "      <td>0</td>\n",
       "      <td>0.200000</td>\n",
       "      <td>9.532984</td>\n",
       "      <td>0.116081</td>\n",
       "    </tr>\n",
       "    <tr>\n",
       "      <th>(-0.06, -0.05]</th>\n",
       "      <td>15</td>\n",
       "      <td>0.066667</td>\n",
       "      <td>16.301963</td>\n",
       "      <td>0.009414</td>\n",
       "      <td>1</td>\n",
       "      <td>0.071429</td>\n",
       "      <td>16.249120</td>\n",
       "      <td>0.014283</td>\n",
       "    </tr>\n",
       "    <tr>\n",
       "      <th>(-0.05, -0.04]</th>\n",
       "      <td>24</td>\n",
       "      <td>0.166667</td>\n",
       "      <td>4.673861</td>\n",
       "      <td>-0.011630</td>\n",
       "      <td>0</td>\n",
       "      <td>0.166667</td>\n",
       "      <td>4.673861</td>\n",
       "      <td>-0.011630</td>\n",
       "    </tr>\n",
       "    <tr>\n",
       "      <th>(-0.04, -0.03]</th>\n",
       "      <td>17</td>\n",
       "      <td>0.176471</td>\n",
       "      <td>4.930715</td>\n",
       "      <td>0.009450</td>\n",
       "      <td>4</td>\n",
       "      <td>0.230769</td>\n",
       "      <td>6.919187</td>\n",
       "      <td>0.119596</td>\n",
       "    </tr>\n",
       "    <tr>\n",
       "      <th>(-0.03, -0.02]</th>\n",
       "      <td>25</td>\n",
       "      <td>0.440000</td>\n",
       "      <td>3.080639</td>\n",
       "      <td>0.258220</td>\n",
       "      <td>3</td>\n",
       "      <td>0.454545</td>\n",
       "      <td>3.941372</td>\n",
       "      <td>0.316153</td>\n",
       "    </tr>\n",
       "    <tr>\n",
       "      <th>(-0.02, -0.01]</th>\n",
       "      <td>23</td>\n",
       "      <td>0.608696</td>\n",
       "      <td>4.236080</td>\n",
       "      <td>0.516321</td>\n",
       "      <td>2</td>\n",
       "      <td>0.571429</td>\n",
       "      <td>3.741407</td>\n",
       "      <td>0.456880</td>\n",
       "    </tr>\n",
       "    <tr>\n",
       "      <th>(-0.01, -0.0]</th>\n",
       "      <td>16</td>\n",
       "      <td>0.375000</td>\n",
       "      <td>1.120265</td>\n",
       "      <td>-0.182904</td>\n",
       "      <td>1</td>\n",
       "      <td>0.400000</td>\n",
       "      <td>1.163812</td>\n",
       "      <td>-0.115547</td>\n",
       "    </tr>\n",
       "    <tr>\n",
       "      <th>(-0.0, 0.01]</th>\n",
       "      <td>17</td>\n",
       "      <td>0.588235</td>\n",
       "      <td>1.107933</td>\n",
       "      <td>0.216584</td>\n",
       "      <td>1</td>\n",
       "      <td>0.625000</td>\n",
       "      <td>1.137033</td>\n",
       "      <td>0.295194</td>\n",
       "    </tr>\n",
       "    <tr>\n",
       "      <th>(0.01, 0.02]</th>\n",
       "      <td>17</td>\n",
       "      <td>0.647059</td>\n",
       "      <td>3.220873</td>\n",
       "      <td>0.537479</td>\n",
       "      <td>3</td>\n",
       "      <td>0.714286</td>\n",
       "      <td>1.851603</td>\n",
       "      <td>0.559979</td>\n",
       "    </tr>\n",
       "    <tr>\n",
       "      <th>(0.02, 0.03]</th>\n",
       "      <td>13</td>\n",
       "      <td>0.923077</td>\n",
       "      <td>90.881537</td>\n",
       "      <td>0.922231</td>\n",
       "      <td>2</td>\n",
       "      <td>1.000000</td>\n",
       "      <td>NaN</td>\n",
       "      <td>NaN</td>\n",
       "    </tr>\n",
       "    <tr>\n",
       "      <th>(0.03, 0.04]</th>\n",
       "      <td>20</td>\n",
       "      <td>0.800000</td>\n",
       "      <td>9.917068</td>\n",
       "      <td>0.779833</td>\n",
       "      <td>4</td>\n",
       "      <td>0.937500</td>\n",
       "      <td>6.932909</td>\n",
       "      <td>0.928485</td>\n",
       "    </tr>\n",
       "    <tr>\n",
       "      <th>(0.04, 0.05]</th>\n",
       "      <td>11</td>\n",
       "      <td>0.909091</td>\n",
       "      <td>12.081310</td>\n",
       "      <td>0.901566</td>\n",
       "      <td>1</td>\n",
       "      <td>0.900000</td>\n",
       "      <td>13.331609</td>\n",
       "      <td>0.892499</td>\n",
       "    </tr>\n",
       "    <tr>\n",
       "      <th>(0.05, 0.06]</th>\n",
       "      <td>9</td>\n",
       "      <td>1.000000</td>\n",
       "      <td>NaN</td>\n",
       "      <td>NaN</td>\n",
       "      <td>1</td>\n",
       "      <td>1.000000</td>\n",
       "      <td>NaN</td>\n",
       "      <td>NaN</td>\n",
       "    </tr>\n",
       "    <tr>\n",
       "      <th>(0.06, 0.07]</th>\n",
       "      <td>9</td>\n",
       "      <td>1.000000</td>\n",
       "      <td>NaN</td>\n",
       "      <td>NaN</td>\n",
       "      <td>3</td>\n",
       "      <td>1.000000</td>\n",
       "      <td>NaN</td>\n",
       "      <td>NaN</td>\n",
       "    </tr>\n",
       "    <tr>\n",
       "      <th>(0.07, 0.08]</th>\n",
       "      <td>9</td>\n",
       "      <td>0.888889</td>\n",
       "      <td>15.988488</td>\n",
       "      <td>0.881939</td>\n",
       "      <td>3</td>\n",
       "      <td>0.833333</td>\n",
       "      <td>23.321023</td>\n",
       "      <td>0.826187</td>\n",
       "    </tr>\n",
       "    <tr>\n",
       "      <th>(0.08, 0.09]</th>\n",
       "      <td>7</td>\n",
       "      <td>1.000000</td>\n",
       "      <td>NaN</td>\n",
       "      <td>NaN</td>\n",
       "      <td>4</td>\n",
       "      <td>1.000000</td>\n",
       "      <td>NaN</td>\n",
       "      <td>NaN</td>\n",
       "    </tr>\n",
       "    <tr>\n",
       "      <th>(0.09, 0.1]</th>\n",
       "      <td>5</td>\n",
       "      <td>1.000000</td>\n",
       "      <td>NaN</td>\n",
       "      <td>NaN</td>\n",
       "      <td>3</td>\n",
       "      <td>1.000000</td>\n",
       "      <td>NaN</td>\n",
       "      <td>NaN</td>\n",
       "    </tr>\n",
       "  </tbody>\n",
       "</table>\n",
       "</div>"
      ],
      "text/plain": [
       "                數量        勝率        盈虧比      凱利公式  漲停股數量  去處漲停股後的勝率  \\\n",
       "區間                                                                    \n",
       "(-0.1, -0.09]    3  0.000000        NaN       NaN      0   0.000000   \n",
       "(-0.09, -0.08]   2  0.500000   2.251847  0.277960      0   0.500000   \n",
       "(-0.08, -0.07]   6  0.166667   1.546704 -0.372113      0   0.166667   \n",
       "(-0.07, -0.06]  10  0.200000   9.532984  0.116081      0   0.200000   \n",
       "(-0.06, -0.05]  15  0.066667  16.301963  0.009414      1   0.071429   \n",
       "(-0.05, -0.04]  24  0.166667   4.673861 -0.011630      0   0.166667   \n",
       "(-0.04, -0.03]  17  0.176471   4.930715  0.009450      4   0.230769   \n",
       "(-0.03, -0.02]  25  0.440000   3.080639  0.258220      3   0.454545   \n",
       "(-0.02, -0.01]  23  0.608696   4.236080  0.516321      2   0.571429   \n",
       "(-0.01, -0.0]   16  0.375000   1.120265 -0.182904      1   0.400000   \n",
       "(-0.0, 0.01]    17  0.588235   1.107933  0.216584      1   0.625000   \n",
       "(0.01, 0.02]    17  0.647059   3.220873  0.537479      3   0.714286   \n",
       "(0.02, 0.03]    13  0.923077  90.881537  0.922231      2   1.000000   \n",
       "(0.03, 0.04]    20  0.800000   9.917068  0.779833      4   0.937500   \n",
       "(0.04, 0.05]    11  0.909091  12.081310  0.901566      1   0.900000   \n",
       "(0.05, 0.06]     9  1.000000        NaN       NaN      1   1.000000   \n",
       "(0.06, 0.07]     9  1.000000        NaN       NaN      3   1.000000   \n",
       "(0.07, 0.08]     9  0.888889  15.988488  0.881939      3   0.833333   \n",
       "(0.08, 0.09]     7  1.000000        NaN       NaN      4   1.000000   \n",
       "(0.09, 0.1]      5  1.000000        NaN       NaN      3   1.000000   \n",
       "\n",
       "                去處漲停股後的盈虧比  去處漲停股後的凱利公式  \n",
       "區間                                       \n",
       "(-0.1, -0.09]          NaN          NaN  \n",
       "(-0.09, -0.08]    2.251847     0.277960  \n",
       "(-0.08, -0.07]    1.546704    -0.372113  \n",
       "(-0.07, -0.06]    9.532984     0.116081  \n",
       "(-0.06, -0.05]   16.249120     0.014283  \n",
       "(-0.05, -0.04]    4.673861    -0.011630  \n",
       "(-0.04, -0.03]    6.919187     0.119596  \n",
       "(-0.03, -0.02]    3.941372     0.316153  \n",
       "(-0.02, -0.01]    3.741407     0.456880  \n",
       "(-0.01, -0.0]     1.163812    -0.115547  \n",
       "(-0.0, 0.01]      1.137033     0.295194  \n",
       "(0.01, 0.02]      1.851603     0.559979  \n",
       "(0.02, 0.03]           NaN          NaN  \n",
       "(0.03, 0.04]      6.932909     0.928485  \n",
       "(0.04, 0.05]     13.331609     0.892499  \n",
       "(0.05, 0.06]           NaN          NaN  \n",
       "(0.06, 0.07]           NaN          NaN  \n",
       "(0.07, 0.08]     23.321023     0.826187  \n",
       "(0.08, 0.09]           NaN          NaN  \n",
       "(0.09, 0.1]            NaN          NaN  "
      ]
     },
     "execution_count": 191,
     "metadata": {},
     "output_type": "execute_result"
    }
   ],
   "source": [
    "final"
   ]
  },
  {
   "cell_type": "code",
   "execution_count": 192,
   "metadata": {},
   "outputs": [],
   "source": [
    "final.index = final.index.astype(str)"
   ]
  },
  {
   "cell_type": "code",
   "execution_count": 193,
   "metadata": {},
   "outputs": [],
   "source": [
    "plot = final"
   ]
  },
  {
   "cell_type": "code",
   "execution_count": 194,
   "metadata": {},
   "outputs": [
    {
     "data": {
      "text/html": [
       "<div>\n",
       "<style scoped>\n",
       "    .dataframe tbody tr th:only-of-type {\n",
       "        vertical-align: middle;\n",
       "    }\n",
       "\n",
       "    .dataframe tbody tr th {\n",
       "        vertical-align: top;\n",
       "    }\n",
       "\n",
       "    .dataframe thead th {\n",
       "        text-align: right;\n",
       "    }\n",
       "</style>\n",
       "<table border=\"1\" class=\"dataframe\">\n",
       "  <thead>\n",
       "    <tr style=\"text-align: right;\">\n",
       "      <th></th>\n",
       "      <th>數量</th>\n",
       "      <th>勝率</th>\n",
       "      <th>盈虧比</th>\n",
       "      <th>凱利公式</th>\n",
       "      <th>漲停股數量</th>\n",
       "      <th>去處漲停股後的勝率</th>\n",
       "      <th>去處漲停股後的盈虧比</th>\n",
       "      <th>去處漲停股後的凱利公式</th>\n",
       "    </tr>\n",
       "    <tr>\n",
       "      <th>區間</th>\n",
       "      <th></th>\n",
       "      <th></th>\n",
       "      <th></th>\n",
       "      <th></th>\n",
       "      <th></th>\n",
       "      <th></th>\n",
       "      <th></th>\n",
       "      <th></th>\n",
       "    </tr>\n",
       "  </thead>\n",
       "  <tbody>\n",
       "    <tr>\n",
       "      <th>(-0.1, -0.09]</th>\n",
       "      <td>3</td>\n",
       "      <td>0.000000</td>\n",
       "      <td>NaN</td>\n",
       "      <td>NaN</td>\n",
       "      <td>0</td>\n",
       "      <td>0.000000</td>\n",
       "      <td>NaN</td>\n",
       "      <td>NaN</td>\n",
       "    </tr>\n",
       "    <tr>\n",
       "      <th>(-0.09, -0.08]</th>\n",
       "      <td>2</td>\n",
       "      <td>0.500000</td>\n",
       "      <td>2.251847</td>\n",
       "      <td>0.277960</td>\n",
       "      <td>0</td>\n",
       "      <td>0.500000</td>\n",
       "      <td>2.251847</td>\n",
       "      <td>0.277960</td>\n",
       "    </tr>\n",
       "    <tr>\n",
       "      <th>(-0.08, -0.07]</th>\n",
       "      <td>6</td>\n",
       "      <td>0.166667</td>\n",
       "      <td>1.546704</td>\n",
       "      <td>-0.372113</td>\n",
       "      <td>0</td>\n",
       "      <td>0.166667</td>\n",
       "      <td>1.546704</td>\n",
       "      <td>-0.372113</td>\n",
       "    </tr>\n",
       "    <tr>\n",
       "      <th>(-0.07, -0.06]</th>\n",
       "      <td>10</td>\n",
       "      <td>0.200000</td>\n",
       "      <td>9.532984</td>\n",
       "      <td>0.116081</td>\n",
       "      <td>0</td>\n",
       "      <td>0.200000</td>\n",
       "      <td>9.532984</td>\n",
       "      <td>0.116081</td>\n",
       "    </tr>\n",
       "    <tr>\n",
       "      <th>(-0.06, -0.05]</th>\n",
       "      <td>15</td>\n",
       "      <td>0.066667</td>\n",
       "      <td>16.301963</td>\n",
       "      <td>0.009414</td>\n",
       "      <td>1</td>\n",
       "      <td>0.071429</td>\n",
       "      <td>16.249120</td>\n",
       "      <td>0.014283</td>\n",
       "    </tr>\n",
       "    <tr>\n",
       "      <th>(-0.05, -0.04]</th>\n",
       "      <td>24</td>\n",
       "      <td>0.166667</td>\n",
       "      <td>4.673861</td>\n",
       "      <td>-0.011630</td>\n",
       "      <td>0</td>\n",
       "      <td>0.166667</td>\n",
       "      <td>4.673861</td>\n",
       "      <td>-0.011630</td>\n",
       "    </tr>\n",
       "    <tr>\n",
       "      <th>(-0.04, -0.03]</th>\n",
       "      <td>17</td>\n",
       "      <td>0.176471</td>\n",
       "      <td>4.930715</td>\n",
       "      <td>0.009450</td>\n",
       "      <td>4</td>\n",
       "      <td>0.230769</td>\n",
       "      <td>6.919187</td>\n",
       "      <td>0.119596</td>\n",
       "    </tr>\n",
       "    <tr>\n",
       "      <th>(-0.03, -0.02]</th>\n",
       "      <td>25</td>\n",
       "      <td>0.440000</td>\n",
       "      <td>3.080639</td>\n",
       "      <td>0.258220</td>\n",
       "      <td>3</td>\n",
       "      <td>0.454545</td>\n",
       "      <td>3.941372</td>\n",
       "      <td>0.316153</td>\n",
       "    </tr>\n",
       "    <tr>\n",
       "      <th>(-0.02, -0.01]</th>\n",
       "      <td>23</td>\n",
       "      <td>0.608696</td>\n",
       "      <td>4.236080</td>\n",
       "      <td>0.516321</td>\n",
       "      <td>2</td>\n",
       "      <td>0.571429</td>\n",
       "      <td>3.741407</td>\n",
       "      <td>0.456880</td>\n",
       "    </tr>\n",
       "    <tr>\n",
       "      <th>(-0.01, -0.0]</th>\n",
       "      <td>16</td>\n",
       "      <td>0.375000</td>\n",
       "      <td>1.120265</td>\n",
       "      <td>-0.182904</td>\n",
       "      <td>1</td>\n",
       "      <td>0.400000</td>\n",
       "      <td>1.163812</td>\n",
       "      <td>-0.115547</td>\n",
       "    </tr>\n",
       "    <tr>\n",
       "      <th>(-0.0, 0.01]</th>\n",
       "      <td>17</td>\n",
       "      <td>0.588235</td>\n",
       "      <td>1.107933</td>\n",
       "      <td>0.216584</td>\n",
       "      <td>1</td>\n",
       "      <td>0.625000</td>\n",
       "      <td>1.137033</td>\n",
       "      <td>0.295194</td>\n",
       "    </tr>\n",
       "    <tr>\n",
       "      <th>(0.01, 0.02]</th>\n",
       "      <td>17</td>\n",
       "      <td>0.647059</td>\n",
       "      <td>3.220873</td>\n",
       "      <td>0.537479</td>\n",
       "      <td>3</td>\n",
       "      <td>0.714286</td>\n",
       "      <td>1.851603</td>\n",
       "      <td>0.559979</td>\n",
       "    </tr>\n",
       "    <tr>\n",
       "      <th>(0.02, 0.03]</th>\n",
       "      <td>13</td>\n",
       "      <td>0.923077</td>\n",
       "      <td>90.881537</td>\n",
       "      <td>0.922231</td>\n",
       "      <td>2</td>\n",
       "      <td>1.000000</td>\n",
       "      <td>NaN</td>\n",
       "      <td>NaN</td>\n",
       "    </tr>\n",
       "    <tr>\n",
       "      <th>(0.03, 0.04]</th>\n",
       "      <td>20</td>\n",
       "      <td>0.800000</td>\n",
       "      <td>9.917068</td>\n",
       "      <td>0.779833</td>\n",
       "      <td>4</td>\n",
       "      <td>0.937500</td>\n",
       "      <td>6.932909</td>\n",
       "      <td>0.928485</td>\n",
       "    </tr>\n",
       "    <tr>\n",
       "      <th>(0.04, 0.05]</th>\n",
       "      <td>11</td>\n",
       "      <td>0.909091</td>\n",
       "      <td>12.081310</td>\n",
       "      <td>0.901566</td>\n",
       "      <td>1</td>\n",
       "      <td>0.900000</td>\n",
       "      <td>13.331609</td>\n",
       "      <td>0.892499</td>\n",
       "    </tr>\n",
       "    <tr>\n",
       "      <th>(0.05, 0.06]</th>\n",
       "      <td>9</td>\n",
       "      <td>1.000000</td>\n",
       "      <td>NaN</td>\n",
       "      <td>NaN</td>\n",
       "      <td>1</td>\n",
       "      <td>1.000000</td>\n",
       "      <td>NaN</td>\n",
       "      <td>NaN</td>\n",
       "    </tr>\n",
       "    <tr>\n",
       "      <th>(0.06, 0.07]</th>\n",
       "      <td>9</td>\n",
       "      <td>1.000000</td>\n",
       "      <td>NaN</td>\n",
       "      <td>NaN</td>\n",
       "      <td>3</td>\n",
       "      <td>1.000000</td>\n",
       "      <td>NaN</td>\n",
       "      <td>NaN</td>\n",
       "    </tr>\n",
       "    <tr>\n",
       "      <th>(0.07, 0.08]</th>\n",
       "      <td>9</td>\n",
       "      <td>0.888889</td>\n",
       "      <td>15.988488</td>\n",
       "      <td>0.881939</td>\n",
       "      <td>3</td>\n",
       "      <td>0.833333</td>\n",
       "      <td>23.321023</td>\n",
       "      <td>0.826187</td>\n",
       "    </tr>\n",
       "    <tr>\n",
       "      <th>(0.08, 0.09]</th>\n",
       "      <td>7</td>\n",
       "      <td>1.000000</td>\n",
       "      <td>NaN</td>\n",
       "      <td>NaN</td>\n",
       "      <td>4</td>\n",
       "      <td>1.000000</td>\n",
       "      <td>NaN</td>\n",
       "      <td>NaN</td>\n",
       "    </tr>\n",
       "    <tr>\n",
       "      <th>(0.09, 0.1]</th>\n",
       "      <td>5</td>\n",
       "      <td>1.000000</td>\n",
       "      <td>NaN</td>\n",
       "      <td>NaN</td>\n",
       "      <td>3</td>\n",
       "      <td>1.000000</td>\n",
       "      <td>NaN</td>\n",
       "      <td>NaN</td>\n",
       "    </tr>\n",
       "  </tbody>\n",
       "</table>\n",
       "</div>"
      ],
      "text/plain": [
       "                數量        勝率        盈虧比      凱利公式  漲停股數量  去處漲停股後的勝率  \\\n",
       "區間                                                                    \n",
       "(-0.1, -0.09]    3  0.000000        NaN       NaN      0   0.000000   \n",
       "(-0.09, -0.08]   2  0.500000   2.251847  0.277960      0   0.500000   \n",
       "(-0.08, -0.07]   6  0.166667   1.546704 -0.372113      0   0.166667   \n",
       "(-0.07, -0.06]  10  0.200000   9.532984  0.116081      0   0.200000   \n",
       "(-0.06, -0.05]  15  0.066667  16.301963  0.009414      1   0.071429   \n",
       "(-0.05, -0.04]  24  0.166667   4.673861 -0.011630      0   0.166667   \n",
       "(-0.04, -0.03]  17  0.176471   4.930715  0.009450      4   0.230769   \n",
       "(-0.03, -0.02]  25  0.440000   3.080639  0.258220      3   0.454545   \n",
       "(-0.02, -0.01]  23  0.608696   4.236080  0.516321      2   0.571429   \n",
       "(-0.01, -0.0]   16  0.375000   1.120265 -0.182904      1   0.400000   \n",
       "(-0.0, 0.01]    17  0.588235   1.107933  0.216584      1   0.625000   \n",
       "(0.01, 0.02]    17  0.647059   3.220873  0.537479      3   0.714286   \n",
       "(0.02, 0.03]    13  0.923077  90.881537  0.922231      2   1.000000   \n",
       "(0.03, 0.04]    20  0.800000   9.917068  0.779833      4   0.937500   \n",
       "(0.04, 0.05]    11  0.909091  12.081310  0.901566      1   0.900000   \n",
       "(0.05, 0.06]     9  1.000000        NaN       NaN      1   1.000000   \n",
       "(0.06, 0.07]     9  1.000000        NaN       NaN      3   1.000000   \n",
       "(0.07, 0.08]     9  0.888889  15.988488  0.881939      3   0.833333   \n",
       "(0.08, 0.09]     7  1.000000        NaN       NaN      4   1.000000   \n",
       "(0.09, 0.1]      5  1.000000        NaN       NaN      3   1.000000   \n",
       "\n",
       "                去處漲停股後的盈虧比  去處漲停股後的凱利公式  \n",
       "區間                                       \n",
       "(-0.1, -0.09]          NaN          NaN  \n",
       "(-0.09, -0.08]    2.251847     0.277960  \n",
       "(-0.08, -0.07]    1.546704    -0.372113  \n",
       "(-0.07, -0.06]    9.532984     0.116081  \n",
       "(-0.06, -0.05]   16.249120     0.014283  \n",
       "(-0.05, -0.04]    4.673861    -0.011630  \n",
       "(-0.04, -0.03]    6.919187     0.119596  \n",
       "(-0.03, -0.02]    3.941372     0.316153  \n",
       "(-0.02, -0.01]    3.741407     0.456880  \n",
       "(-0.01, -0.0]     1.163812    -0.115547  \n",
       "(-0.0, 0.01]      1.137033     0.295194  \n",
       "(0.01, 0.02]      1.851603     0.559979  \n",
       "(0.02, 0.03]           NaN          NaN  \n",
       "(0.03, 0.04]      6.932909     0.928485  \n",
       "(0.04, 0.05]     13.331609     0.892499  \n",
       "(0.05, 0.06]           NaN          NaN  \n",
       "(0.06, 0.07]           NaN          NaN  \n",
       "(0.07, 0.08]     23.321023     0.826187  \n",
       "(0.08, 0.09]           NaN          NaN  \n",
       "(0.09, 0.1]            NaN          NaN  "
      ]
     },
     "execution_count": 194,
     "metadata": {},
     "output_type": "execute_result"
    }
   ],
   "source": [
    "plot"
   ]
  },
  {
   "cell_type": "code",
   "execution_count": null,
   "metadata": {},
   "outputs": [],
   "source": []
  },
  {
   "cell_type": "code",
   "execution_count": null,
   "metadata": {},
   "outputs": [],
   "source": []
  },
  {
   "cell_type": "code",
   "execution_count": 195,
   "metadata": {
    "scrolled": false
   },
   "outputs": [
    {
     "data": {
      "image/png": "[encoded data removed]",
      "text/plain": [
       "<Figure size 1440x1440 with 3 Axes>"
      ]
     },
     "metadata": {
      "needs_background": "light"
     },
     "output_type": "display_data"
    }
   ],
   "source": [
    "fig = plt.figure(figsize = (20,20))\n",
    "\n",
    "\n",
    "ax=plt.subplot(311)\n",
    "plot[[\"盈虧比\",\"去處漲停股後的盈虧比\"]].plot.bar(ax=ax)\n",
    "ax.set_xticklabels(plot.index,rotation = 45)\n",
    "ax.set_ylabel(\"數值\")\n",
    "ax.legend(loc = \"upper left\", prop={'size': 15})\n",
    "ax.grid()\n",
    "\n",
    "ax=plt.subplot(312)\n",
    "plot[[\"勝率\",\"去處漲停股後的勝率\"]].plot.bar(ax=ax)\n",
    "ax.set_xticklabels(plot.index,rotation = 45)\n",
    "ax.set_ylabel(\"數值\")\n",
    "ax.legend(loc = \"upper left\", prop={'size': 15})\n",
    "ax.grid()\n",
    "\n",
    "ax=plt.subplot(313)\n",
    "plot[[\"凱利公式\",\"去處漲停股後的凱利公式\"]].plot.bar(ax=ax)\n",
    "ax.set_xticklabels(plot.index,rotation = 45)\n",
    "ax.set_ylabel(\"數值\")\n",
    "ax.legend(loc = \"upper left\", prop={'size': 15})\n",
    "ax.grid()\n",
    "\n",
    "fig.tight_layout()\n"
   ]
  },
  {
   "cell_type": "code",
   "execution_count": null,
   "metadata": {},
   "outputs": [],
   "source": []
  }
 ],
 "metadata": {
  "kernelspec": {
   "display_name": "Python 3",
   "language": "python",
   "name": "python3"
  },
  "language_info": {
   "codemirror_mode": {
    "name": "ipython",
    "version": 3
   },
   "file_extension": ".py",
   "mimetype": "text/x-python",
   "name": "python",
   "nbconvert_exporter": "python",
   "pygments_lexer": "ipython3",
   "version": "3.6.10"
  }
 },
 "nbformat": 4,
 "nbformat_minor": 4
}
