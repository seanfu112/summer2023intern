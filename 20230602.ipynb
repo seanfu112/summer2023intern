{
 "cells": [
  {
   "cell_type": "code",
   "execution_count": 1,
   "metadata": {},
   "outputs": [],
   "source": [
    "import numpy as np\n",
    "import pandas as pd\n",
    "import matplotlib.pyplot as plt\n",
    "import matplotlib.ticker as mtick"
   ]
  },
  {
   "cell_type": "code",
   "execution_count": 2,
   "metadata": {},
   "outputs": [],
   "source": [
    "industry = pd.read_csv(\"industry.csv\")\n",
    "industry = industry.T\n",
    "industry.index = industry.index.str.lstrip()\n",
    "industry.index = industry.index.str.rstrip()\n",
    "industry = industry.T"
   ]
  },
  {
   "cell_type": "code",
   "execution_count": 3,
   "metadata": {},
   "outputs": [],
   "source": [
    "busi_dates = pd.Series(get_trading_dates(\"20230504\",\"20230519\"))"
   ]
  },
  {
   "cell_type": "code",
   "execution_count": 4,
   "metadata": {},
   "outputs": [],
   "source": [
    "components = index_components('000300.XSHG')"
   ]
  },
  {
   "cell_type": "code",
   "execution_count": 5,
   "metadata": {},
   "outputs": [],
   "source": [
    "hs300 = get_price_change_rate(components, start_date=20230504, end_date=20230519, expect_df=True).unstack().to_frame(\"price_change_rate\")"
   ]
  },
  {
   "cell_type": "code",
   "execution_count": 6,
   "metadata": {},
   "outputs": [],
   "source": [
    "hs300 = hs300.reset_index()"
   ]
  },
  {
   "cell_type": "code",
   "execution_count": 7,
   "metadata": {},
   "outputs": [],
   "source": [
    "industry = industry.sort_values(by = \"order_book_id\")\n",
    "industry = industry.reset_index(drop = True)\n",
    "industry = industry.dropna()\n",
    "industry.index = industry[\"order_book_id\"].str.replace(\" \",\"\")\n",
    "industry = industry.drop(\"order_book_id\", axis = 0)\n",
    "industry = industry.drop(\"order_book_id\", axis = 1)\n",
    "keep_rows = list(hs300[\"order_book_id\"])\n",
    "keep_rows = [*set(keep_rows)]\n",
    "industry = industry.T\n",
    "industry = industry[industry.columns.intersection(keep_rows)]\n",
    "industry = industry.T"
   ]
  },
  {
   "cell_type": "code",
   "execution_count": 8,
   "metadata": {},
   "outputs": [],
   "source": [
    "hs300 = hs300.merge(industry,on = [\"order_book_id\"])"
   ]
  },
  {
   "cell_type": "code",
   "execution_count": 9,
   "metadata": {},
   "outputs": [],
   "source": [
    "hs300.rename(columns = {'ind_number_2021':'ind'}, inplace = True)\n",
    "hs300.rename(columns = {'date':'busi_date'}, inplace = True)"
   ]
  },
  {
   "cell_type": "code",
   "execution_count": 10,
   "metadata": {},
   "outputs": [],
   "source": [
    "hs300[\"ind\"] = hs300[\"ind\"].str.replace(\" \",\"\")\n",
    "hs300[\"ind\"] = hs300[\"ind\"].str.lstrip(\"ind\")\n",
    "hs300[\"ind\"] = hs300[\"ind\"].str.zfill(2)\n",
    "hs300[\"ind\"] = \"ind\"+ hs300[\"ind\"]"
   ]
  },
  {
   "cell_type": "code",
   "execution_count": 11,
   "metadata": {},
   "outputs": [],
   "source": [
    "max_dates = busi_dates.to_frame(\"dates\")\n",
    "max_dates[\"dates\"] = pd.to_datetime(max_dates[\"dates\"])\n",
    "max_dates = max_dates.groupby([max_dates.dates.dt.year, max_dates.dates.dt.month]).max().values\n",
    "max_dates = pd.DataFrame(max_dates)"
   ]
  },
  {
   "cell_type": "code",
   "execution_count": 12,
   "metadata": {},
   "outputs": [],
   "source": [
    "max_dates.rename(columns = {0:'dates'}, inplace = True)"
   ]
  },
  {
   "cell_type": "code",
   "execution_count": 13,
   "metadata": {},
   "outputs": [],
   "source": [
    "dates = []\n",
    "for values in max_dates[\"dates\"]:\n",
    "    temp = index_weights('000300.XSHG', values).rename(values)\n",
    "    dates.append(temp)\n",
    "weights = pd.concat(dates, axis=\"columns\").T"
   ]
  },
  {
   "cell_type": "code",
   "execution_count": 14,
   "metadata": {},
   "outputs": [],
   "source": [
    "weights = weights.reindex(busi_dates)\n",
    "weights = weights.fillna(method = \"bfill\")\n",
    "weights = weights.stack().to_frame(\"weights\")\n",
    "weights.index.names = [\"busi_date\",\"order_book_id\"]"
   ]
  },
  {
   "cell_type": "code",
   "execution_count": 15,
   "metadata": {},
   "outputs": [],
   "source": [
    "weights = weights.sort_index()\n",
    "weights = weights.reset_index()\n",
    "weights = weights.sort_values(by=[\"order_book_id\",\"busi_date\"])\n",
    "weights = weights.reset_index(drop = True)"
   ]
  },
  {
   "cell_type": "code",
   "execution_count": 16,
   "metadata": {},
   "outputs": [],
   "source": [
    "weights[\"busi_date\"] = pd.to_datetime(weights[\"busi_date\"])\n",
    "weights = weights.iloc[:,[1,0,2]]"
   ]
  },
  {
   "cell_type": "code",
   "execution_count": 17,
   "metadata": {},
   "outputs": [],
   "source": [
    "hs300 = hs300.merge(weights,on = [\"order_book_id\",\"busi_date\"])"
   ]
  },
  {
   "cell_type": "code",
   "execution_count": 18,
   "metadata": {},
   "outputs": [],
   "source": [
    "hs300[\"yield\"] = hs300[\"price_change_rate\"]*hs300[\"weights\"]"
   ]
  },
  {
   "cell_type": "code",
   "execution_count": 19,
   "metadata": {},
   "outputs": [],
   "source": [
    "hs300[\"total_yield\"] = hs300[\"yield\"]/hs300[\"weights\"]\n",
    "hs300.rename(columns = {'ind':'industry'}, inplace = True)"
   ]
  },
  {
   "cell_type": "code",
   "execution_count": 20,
   "metadata": {},
   "outputs": [],
   "source": [
    "account = pd.read_csv(\"data.csv\")\n",
    "div = pd.read_csv(\"data20230523.csv\")"
   ]
  },
  {
   "cell_type": "code",
   "execution_count": 21,
   "metadata": {},
   "outputs": [],
   "source": [
    "account[\"busi_date\"] = pd.to_datetime(account[\"busi_date\"])\n",
    "div[\"busi_date\"] = pd.to_datetime(div[\"busi_date\"])\n",
    "div = div.drop(\"ttl_asset_adj\", axis=1)"
   ]
  },
  {
   "cell_type": "code",
   "execution_count": 22,
   "metadata": {},
   "outputs": [],
   "source": [
    "account = account.groupby([\"busi_date\",\"industry\",\"order_book_id\",\"hs300\"])[\"market\",\"stkcode\",\"daily_profit\",\"hs300_iweight\"].sum()"
   ]
  },
  {
   "cell_type": "code",
   "execution_count": 23,
   "metadata": {},
   "outputs": [],
   "source": [
    "account = account.reset_index()"
   ]
  },
  {
   "cell_type": "code",
   "execution_count": 24,
   "metadata": {},
   "outputs": [],
   "source": [
    "account[\"industry\"] = account[\"industry\"].str.lstrip(\"ind\")\n",
    "account[\"industry\"] = account[\"industry\"].str.zfill(2)\n",
    "account[\"industry\"] = \"ind\"+ account[\"industry\"]"
   ]
  },
  {
   "cell_type": "code",
   "execution_count": 25,
   "metadata": {},
   "outputs": [],
   "source": [
    "account = account.drop(\"hs300\", axis = 1)"
   ]
  },
  {
   "cell_type": "code",
   "execution_count": 26,
   "metadata": {},
   "outputs": [],
   "source": [
    "account = account.merge(div, on=\"busi_date\")"
   ]
  },
  {
   "cell_type": "code",
   "execution_count": 27,
   "metadata": {},
   "outputs": [],
   "source": [
    "account[\"yield\"] = account[\"daily_profit\"]/account[\"prev_ttl_asset\"]"
   ]
  },
  {
   "cell_type": "code",
   "execution_count": 28,
   "metadata": {},
   "outputs": [],
   "source": [
    "account[\"total_yield\"] = account[\"yield\"]/account[\"hs300_iweight\"]"
   ]
  },
  {
   "cell_type": "code",
   "execution_count": null,
   "metadata": {},
   "outputs": [],
   "source": []
  },
  {
   "cell_type": "code",
   "execution_count": null,
   "metadata": {},
   "outputs": [],
   "source": []
  },
  {
   "cell_type": "code",
   "execution_count": 29,
   "metadata": {},
   "outputs": [],
   "source": [
    "results = hs300.groupby([\"busi_date\",\"industry\"])[\"weights\",\"total_yield\"].sum()"
   ]
  },
  {
   "cell_type": "code",
   "execution_count": 30,
   "metadata": {},
   "outputs": [],
   "source": [
    "results2 = account.groupby([\"busi_date\",\"industry\"])[\"hs300_iweight\",\"total_yield\"].sum()"
   ]
  },
  {
   "cell_type": "code",
   "execution_count": 31,
   "metadata": {},
   "outputs": [],
   "source": [
    "results.rename(columns = {'weights':'benchmark_weight'}, inplace = True)\n",
    "results.rename(columns = {'total_yield':'benchmark_yield'}, inplace = True)\n",
    "results2.rename(columns = {'hs300_iweight':'account_weight'}, inplace = True)\n",
    "results2.rename(columns = {'total_yield':'account_yield'}, inplace = True)"
   ]
  },
  {
   "cell_type": "code",
   "execution_count": 32,
   "metadata": {},
   "outputs": [],
   "source": [
    "results = results.merge(results2, on = [\"industry\",\"busi_date\"])"
   ]
  },
  {
   "cell_type": "code",
   "execution_count": 33,
   "metadata": {},
   "outputs": [],
   "source": [
    "results = results.groupby([\"busi_date\",\"industry\"]).sum()"
   ]
  },
  {
   "cell_type": "code",
   "execution_count": 34,
   "metadata": {},
   "outputs": [
    {
     "data": {
      "text/html": [
       "<div>\n",
       "<style scoped>\n",
       "    .dataframe tbody tr th:only-of-type {\n",
       "        vertical-align: middle;\n",
       "    }\n",
       "\n",
       "    .dataframe tbody tr th {\n",
       "        vertical-align: top;\n",
       "    }\n",
       "\n",
       "    .dataframe thead th {\n",
       "        text-align: right;\n",
       "    }\n",
       "</style>\n",
       "<table border=\"1\" class=\"dataframe\">\n",
       "  <thead>\n",
       "    <tr style=\"text-align: right;\">\n",
       "      <th></th>\n",
       "      <th></th>\n",
       "      <th>benchmark_weight</th>\n",
       "      <th>benchmark_yield</th>\n",
       "      <th>account_weight</th>\n",
       "      <th>account_yield</th>\n",
       "    </tr>\n",
       "    <tr>\n",
       "      <th>busi_date</th>\n",
       "      <th>industry</th>\n",
       "      <th></th>\n",
       "      <th></th>\n",
       "      <th></th>\n",
       "      <th></th>\n",
       "    </tr>\n",
       "  </thead>\n",
       "  <tbody>\n",
       "    <tr>\n",
       "      <th rowspan=\"5\" valign=\"top\">2023-05-04</th>\n",
       "      <th>ind01</th>\n",
       "      <td>0.06940</td>\n",
       "      <td>0.116776</td>\n",
       "      <td>0.06940</td>\n",
       "      <td>0.047733</td>\n",
       "    </tr>\n",
       "    <tr>\n",
       "      <th>ind02</th>\n",
       "      <td>0.03163</td>\n",
       "      <td>0.117872</td>\n",
       "      <td>0.03163</td>\n",
       "      <td>-0.013961</td>\n",
       "    </tr>\n",
       "    <tr>\n",
       "      <th>ind03</th>\n",
       "      <td>0.03274</td>\n",
       "      <td>-0.154704</td>\n",
       "      <td>0.03274</td>\n",
       "      <td>0.003441</td>\n",
       "    </tr>\n",
       "    <tr>\n",
       "      <th>ind04</th>\n",
       "      <td>0.02863</td>\n",
       "      <td>0.280529</td>\n",
       "      <td>0.02863</td>\n",
       "      <td>0.208412</td>\n",
       "    </tr>\n",
       "    <tr>\n",
       "      <th>ind05</th>\n",
       "      <td>0.02468</td>\n",
       "      <td>-0.011598</td>\n",
       "      <td>0.02420</td>\n",
       "      <td>-0.028123</td>\n",
       "    </tr>\n",
       "    <tr>\n",
       "      <th>...</th>\n",
       "      <th>...</th>\n",
       "      <td>...</td>\n",
       "      <td>...</td>\n",
       "      <td>...</td>\n",
       "      <td>...</td>\n",
       "    </tr>\n",
       "    <tr>\n",
       "      <th rowspan=\"5\" valign=\"top\">2023-05-19</th>\n",
       "      <th>ind26</th>\n",
       "      <td>0.05172</td>\n",
       "      <td>-0.054818</td>\n",
       "      <td>0.04629</td>\n",
       "      <td>-0.046555</td>\n",
       "    </tr>\n",
       "    <tr>\n",
       "      <th>ind27</th>\n",
       "      <td>0.01236</td>\n",
       "      <td>-0.017974</td>\n",
       "      <td>0.01316</td>\n",
       "      <td>0.020678</td>\n",
       "    </tr>\n",
       "    <tr>\n",
       "      <th>ind28</th>\n",
       "      <td>0.09779</td>\n",
       "      <td>-0.376352</td>\n",
       "      <td>0.09882</td>\n",
       "      <td>-0.254665</td>\n",
       "    </tr>\n",
       "    <tr>\n",
       "      <th>ind29</th>\n",
       "      <td>0.01413</td>\n",
       "      <td>-0.062521</td>\n",
       "      <td>0.01386</td>\n",
       "      <td>-0.065393</td>\n",
       "    </tr>\n",
       "    <tr>\n",
       "      <th>ind31</th>\n",
       "      <td>0.00427</td>\n",
       "      <td>-0.015569</td>\n",
       "      <td>0.00068</td>\n",
       "      <td>-0.009559</td>\n",
       "    </tr>\n",
       "  </tbody>\n",
       "</table>\n",
       "<p>336 rows × 4 columns</p>\n",
       "</div>"
      ],
      "text/plain": [
       "                     benchmark_weight  benchmark_yield  account_weight  \\\n",
       "busi_date  industry                                                      \n",
       "2023-05-04 ind01              0.06940         0.116776         0.06940   \n",
       "           ind02              0.03163         0.117872         0.03163   \n",
       "           ind03              0.03274        -0.154704         0.03274   \n",
       "           ind04              0.02863         0.280529         0.02863   \n",
       "           ind05              0.02468        -0.011598         0.02420   \n",
       "...                               ...              ...             ...   \n",
       "2023-05-19 ind26              0.05172        -0.054818         0.04629   \n",
       "           ind27              0.01236        -0.017974         0.01316   \n",
       "           ind28              0.09779        -0.376352         0.09882   \n",
       "           ind29              0.01413        -0.062521         0.01386   \n",
       "           ind31              0.00427        -0.015569         0.00068   \n",
       "\n",
       "                     account_yield  \n",
       "busi_date  industry                 \n",
       "2023-05-04 ind01          0.047733  \n",
       "           ind02         -0.013961  \n",
       "           ind03          0.003441  \n",
       "           ind04          0.208412  \n",
       "           ind05         -0.028123  \n",
       "...                            ...  \n",
       "2023-05-19 ind26         -0.046555  \n",
       "           ind27          0.020678  \n",
       "           ind28         -0.254665  \n",
       "           ind29         -0.065393  \n",
       "           ind31         -0.009559  \n",
       "\n",
       "[336 rows x 4 columns]"
      ]
     },
     "execution_count": 34,
     "metadata": {},
     "output_type": "execute_result"
    }
   ],
   "source": [
    "results"
   ]
  },
  {
   "cell_type": "code",
   "execution_count": 35,
   "metadata": {},
   "outputs": [],
   "source": [
    "bhb_model = pd.DataFrame(index = results.index)"
   ]
  },
  {
   "cell_type": "code",
   "execution_count": 36,
   "metadata": {},
   "outputs": [],
   "source": [
    "bhb_model[\"R^P\"] = results[\"account_weight\"]*results[\"account_yield\"]\n",
    "bhb_model[\"R^B\"] = results[\"benchmark_weight\"]*results[\"benchmark_yield\"]\n",
    "bhb_model[\"AR\"] = (results[\"account_weight\"]-results[\"benchmark_weight\"])*results[\"benchmark_yield\"]\n",
    "bhb_model[\"SR\"] = (results[\"account_yield\"]-results[\"benchmark_yield\"])*results[\"benchmark_weight\"]\n",
    "bhb_model[\"IR\"] = (results[\"account_weight\"]-results[\"benchmark_weight\"])*(results[\"account_yield\"]-results[\"benchmark_yield\"])"
   ]
  },
  {
   "cell_type": "code",
   "execution_count": 37,
   "metadata": {},
   "outputs": [
    {
     "data": {
      "text/html": [
       "<div>\n",
       "<style scoped>\n",
       "    .dataframe tbody tr th:only-of-type {\n",
       "        vertical-align: middle;\n",
       "    }\n",
       "\n",
       "    .dataframe tbody tr th {\n",
       "        vertical-align: top;\n",
       "    }\n",
       "\n",
       "    .dataframe thead th {\n",
       "        text-align: right;\n",
       "    }\n",
       "</style>\n",
       "<table border=\"1\" class=\"dataframe\">\n",
       "  <thead>\n",
       "    <tr style=\"text-align: right;\">\n",
       "      <th></th>\n",
       "      <th></th>\n",
       "      <th>R^P</th>\n",
       "      <th>R^B</th>\n",
       "      <th>AR</th>\n",
       "      <th>SR</th>\n",
       "      <th>IR</th>\n",
       "    </tr>\n",
       "    <tr>\n",
       "      <th>busi_date</th>\n",
       "      <th>industry</th>\n",
       "      <th></th>\n",
       "      <th></th>\n",
       "      <th></th>\n",
       "      <th></th>\n",
       "      <th></th>\n",
       "    </tr>\n",
       "  </thead>\n",
       "  <tbody>\n",
       "    <tr>\n",
       "      <th rowspan=\"5\" valign=\"top\">2023-05-04</th>\n",
       "      <th>ind01</th>\n",
       "      <td>0.003313</td>\n",
       "      <td>0.008104</td>\n",
       "      <td>0.000000</td>\n",
       "      <td>-0.004792</td>\n",
       "      <td>-0.000000e+00</td>\n",
       "    </tr>\n",
       "    <tr>\n",
       "      <th>ind02</th>\n",
       "      <td>-0.000442</td>\n",
       "      <td>0.003728</td>\n",
       "      <td>0.000000</td>\n",
       "      <td>-0.004170</td>\n",
       "      <td>-0.000000e+00</td>\n",
       "    </tr>\n",
       "    <tr>\n",
       "      <th>ind03</th>\n",
       "      <td>0.000113</td>\n",
       "      <td>-0.005065</td>\n",
       "      <td>-0.000000</td>\n",
       "      <td>0.005178</td>\n",
       "      <td>0.000000e+00</td>\n",
       "    </tr>\n",
       "    <tr>\n",
       "      <th>ind04</th>\n",
       "      <td>0.005967</td>\n",
       "      <td>0.008032</td>\n",
       "      <td>0.000000</td>\n",
       "      <td>-0.002065</td>\n",
       "      <td>-0.000000e+00</td>\n",
       "    </tr>\n",
       "    <tr>\n",
       "      <th>ind05</th>\n",
       "      <td>-0.000681</td>\n",
       "      <td>-0.000286</td>\n",
       "      <td>0.000006</td>\n",
       "      <td>-0.000408</td>\n",
       "      <td>7.932366e-06</td>\n",
       "    </tr>\n",
       "    <tr>\n",
       "      <th>...</th>\n",
       "      <th>...</th>\n",
       "      <td>...</td>\n",
       "      <td>...</td>\n",
       "      <td>...</td>\n",
       "      <td>...</td>\n",
       "      <td>...</td>\n",
       "    </tr>\n",
       "    <tr>\n",
       "      <th rowspan=\"5\" valign=\"top\">2023-05-19</th>\n",
       "      <th>ind26</th>\n",
       "      <td>-0.002155</td>\n",
       "      <td>-0.002835</td>\n",
       "      <td>0.000298</td>\n",
       "      <td>0.000427</td>\n",
       "      <td>-4.486820e-05</td>\n",
       "    </tr>\n",
       "    <tr>\n",
       "      <th>ind27</th>\n",
       "      <td>0.000272</td>\n",
       "      <td>-0.000222</td>\n",
       "      <td>-0.000014</td>\n",
       "      <td>0.000478</td>\n",
       "      <td>3.092170e-05</td>\n",
       "    </tr>\n",
       "    <tr>\n",
       "      <th>ind28</th>\n",
       "      <td>-0.025166</td>\n",
       "      <td>-0.036803</td>\n",
       "      <td>-0.000388</td>\n",
       "      <td>0.011900</td>\n",
       "      <td>1.253372e-04</td>\n",
       "    </tr>\n",
       "    <tr>\n",
       "      <th>ind29</th>\n",
       "      <td>-0.000906</td>\n",
       "      <td>-0.000883</td>\n",
       "      <td>0.000017</td>\n",
       "      <td>-0.000041</td>\n",
       "      <td>7.754549e-07</td>\n",
       "    </tr>\n",
       "    <tr>\n",
       "      <th>ind31</th>\n",
       "      <td>-0.000007</td>\n",
       "      <td>-0.000066</td>\n",
       "      <td>0.000056</td>\n",
       "      <td>0.000026</td>\n",
       "      <td>-2.157644e-05</td>\n",
       "    </tr>\n",
       "  </tbody>\n",
       "</table>\n",
       "<p>336 rows × 5 columns</p>\n",
       "</div>"
      ],
      "text/plain": [
       "                          R^P       R^B        AR        SR            IR\n",
       "busi_date  industry                                                      \n",
       "2023-05-04 ind01     0.003313  0.008104  0.000000 -0.004792 -0.000000e+00\n",
       "           ind02    -0.000442  0.003728  0.000000 -0.004170 -0.000000e+00\n",
       "           ind03     0.000113 -0.005065 -0.000000  0.005178  0.000000e+00\n",
       "           ind04     0.005967  0.008032  0.000000 -0.002065 -0.000000e+00\n",
       "           ind05    -0.000681 -0.000286  0.000006 -0.000408  7.932366e-06\n",
       "...                       ...       ...       ...       ...           ...\n",
       "2023-05-19 ind26    -0.002155 -0.002835  0.000298  0.000427 -4.486820e-05\n",
       "           ind27     0.000272 -0.000222 -0.000014  0.000478  3.092170e-05\n",
       "           ind28    -0.025166 -0.036803 -0.000388  0.011900  1.253372e-04\n",
       "           ind29    -0.000906 -0.000883  0.000017 -0.000041  7.754549e-07\n",
       "           ind31    -0.000007 -0.000066  0.000056  0.000026 -2.157644e-05\n",
       "\n",
       "[336 rows x 5 columns]"
      ]
     },
     "execution_count": 37,
     "metadata": {},
     "output_type": "execute_result"
    }
   ],
   "source": [
    "bhb_model"
   ]
  },
  {
   "cell_type": "code",
   "execution_count": 38,
   "metadata": {},
   "outputs": [],
   "source": [
    "bhb_industry = bhb_model.groupby(\"industry\")[\"AR\",\"SR\",\"IR\"].sum()"
   ]
  },
  {
   "cell_type": "code",
   "execution_count": 39,
   "metadata": {},
   "outputs": [],
   "source": [
    "bhb_industry[\"R^A\"] = bhb_industry[\"AR\"]+bhb_industry[\"SR\"]+bhb_industry[\"IR\"]"
   ]
  },
  {
   "cell_type": "code",
   "execution_count": 40,
   "metadata": {},
   "outputs": [
    {
     "data": {
      "text/html": [
       "<div>\n",
       "<style scoped>\n",
       "    .dataframe tbody tr th:only-of-type {\n",
       "        vertical-align: middle;\n",
       "    }\n",
       "\n",
       "    .dataframe tbody tr th {\n",
       "        vertical-align: top;\n",
       "    }\n",
       "\n",
       "    .dataframe thead th {\n",
       "        text-align: right;\n",
       "    }\n",
       "</style>\n",
       "<table border=\"1\" class=\"dataframe\">\n",
       "  <thead>\n",
       "    <tr style=\"text-align: right;\">\n",
       "      <th></th>\n",
       "      <th>AR</th>\n",
       "      <th>SR</th>\n",
       "      <th>IR</th>\n",
       "      <th>R^A</th>\n",
       "    </tr>\n",
       "    <tr>\n",
       "      <th>industry</th>\n",
       "      <th></th>\n",
       "      <th></th>\n",
       "      <th></th>\n",
       "      <th></th>\n",
       "    </tr>\n",
       "  </thead>\n",
       "  <tbody>\n",
       "    <tr>\n",
       "      <th>ind01</th>\n",
       "      <td>2.472590e-04</td>\n",
       "      <td>-0.017109</td>\n",
       "      <td>2.158072e-05</td>\n",
       "      <td>-1.684013e-02</td>\n",
       "    </tr>\n",
       "    <tr>\n",
       "      <th>ind02</th>\n",
       "      <td>-2.860386e-04</td>\n",
       "      <td>-0.004954</td>\n",
       "      <td>-7.932262e-05</td>\n",
       "      <td>-5.319304e-03</td>\n",
       "    </tr>\n",
       "    <tr>\n",
       "      <th>ind03</th>\n",
       "      <td>1.209660e-03</td>\n",
       "      <td>0.014836</td>\n",
       "      <td>-9.785899e-04</td>\n",
       "      <td>1.506700e-02</td>\n",
       "    </tr>\n",
       "    <tr>\n",
       "      <th>ind04</th>\n",
       "      <td>-2.080718e-04</td>\n",
       "      <td>-0.007121</td>\n",
       "      <td>1.534805e-04</td>\n",
       "      <td>-7.175247e-03</td>\n",
       "    </tr>\n",
       "    <tr>\n",
       "      <th>ind05</th>\n",
       "      <td>7.213076e-04</td>\n",
       "      <td>0.004695</td>\n",
       "      <td>-5.205406e-04</td>\n",
       "      <td>4.896159e-03</td>\n",
       "    </tr>\n",
       "    <tr>\n",
       "      <th>ind06</th>\n",
       "      <td>-5.475586e-07</td>\n",
       "      <td>-0.000868</td>\n",
       "      <td>1.110386e-05</td>\n",
       "      <td>-8.578919e-04</td>\n",
       "    </tr>\n",
       "    <tr>\n",
       "      <th>ind07</th>\n",
       "      <td>4.903892e-04</td>\n",
       "      <td>0.006498</td>\n",
       "      <td>-1.294231e-04</td>\n",
       "      <td>6.858590e-03</td>\n",
       "    </tr>\n",
       "    <tr>\n",
       "      <th>ind09</th>\n",
       "      <td>2.520324e-04</td>\n",
       "      <td>0.003551</td>\n",
       "      <td>-1.485445e-04</td>\n",
       "      <td>3.654312e-03</td>\n",
       "    </tr>\n",
       "    <tr>\n",
       "      <th>ind10</th>\n",
       "      <td>-8.604225e-05</td>\n",
       "      <td>-0.000099</td>\n",
       "      <td>4.442168e-05</td>\n",
       "      <td>-1.408951e-04</td>\n",
       "    </tr>\n",
       "    <tr>\n",
       "      <th>ind11</th>\n",
       "      <td>4.125101e-04</td>\n",
       "      <td>0.012148</td>\n",
       "      <td>1.091729e-04</td>\n",
       "      <td>1.266953e-02</td>\n",
       "    </tr>\n",
       "    <tr>\n",
       "      <th>ind12</th>\n",
       "      <td>-1.425087e-04</td>\n",
       "      <td>0.001388</td>\n",
       "      <td>9.220497e-05</td>\n",
       "      <td>1.337851e-03</td>\n",
       "    </tr>\n",
       "    <tr>\n",
       "      <th>ind13</th>\n",
       "      <td>2.076702e-04</td>\n",
       "      <td>0.003894</td>\n",
       "      <td>-9.244808e-05</td>\n",
       "      <td>4.009677e-03</td>\n",
       "    </tr>\n",
       "    <tr>\n",
       "      <th>ind14</th>\n",
       "      <td>4.046422e-05</td>\n",
       "      <td>0.000282</td>\n",
       "      <td>-2.557194e-05</td>\n",
       "      <td>2.973536e-04</td>\n",
       "    </tr>\n",
       "    <tr>\n",
       "      <th>ind15</th>\n",
       "      <td>2.938235e-04</td>\n",
       "      <td>0.003728</td>\n",
       "      <td>-7.263643e-05</td>\n",
       "      <td>3.949575e-03</td>\n",
       "    </tr>\n",
       "    <tr>\n",
       "      <th>ind16</th>\n",
       "      <td>7.372074e-05</td>\n",
       "      <td>0.000102</td>\n",
       "      <td>-2.357925e-05</td>\n",
       "      <td>1.520569e-04</td>\n",
       "    </tr>\n",
       "    <tr>\n",
       "      <th>ind17</th>\n",
       "      <td>-3.535285e-03</td>\n",
       "      <td>0.056616</td>\n",
       "      <td>5.029239e-03</td>\n",
       "      <td>5.811020e-02</td>\n",
       "    </tr>\n",
       "    <tr>\n",
       "      <th>ind19</th>\n",
       "      <td>-6.491507e-05</td>\n",
       "      <td>0.000433</td>\n",
       "      <td>5.493494e-05</td>\n",
       "      <td>4.232834e-04</td>\n",
       "    </tr>\n",
       "    <tr>\n",
       "      <th>ind20</th>\n",
       "      <td>6.052361e-04</td>\n",
       "      <td>0.005827</td>\n",
       "      <td>1.245183e-04</td>\n",
       "      <td>6.557188e-03</td>\n",
       "    </tr>\n",
       "    <tr>\n",
       "      <th>ind21</th>\n",
       "      <td>-1.351034e-03</td>\n",
       "      <td>-0.012616</td>\n",
       "      <td>5.316552e-04</td>\n",
       "      <td>-1.343526e-02</td>\n",
       "    </tr>\n",
       "    <tr>\n",
       "      <th>ind22</th>\n",
       "      <td>-5.408470e-07</td>\n",
       "      <td>0.000001</td>\n",
       "      <td>1.829371e-07</td>\n",
       "      <td>9.261037e-07</td>\n",
       "    </tr>\n",
       "    <tr>\n",
       "      <th>ind23</th>\n",
       "      <td>8.790054e-05</td>\n",
       "      <td>0.000472</td>\n",
       "      <td>-2.289247e-05</td>\n",
       "      <td>5.371625e-04</td>\n",
       "    </tr>\n",
       "    <tr>\n",
       "      <th>ind24</th>\n",
       "      <td>-1.814637e-04</td>\n",
       "      <td>-0.000631</td>\n",
       "      <td>3.604645e-05</td>\n",
       "      <td>-7.759968e-04</td>\n",
       "    </tr>\n",
       "    <tr>\n",
       "      <th>ind25</th>\n",
       "      <td>-3.200214e-04</td>\n",
       "      <td>0.001238</td>\n",
       "      <td>1.397673e-04</td>\n",
       "      <td>1.057861e-03</td>\n",
       "    </tr>\n",
       "    <tr>\n",
       "      <th>ind26</th>\n",
       "      <td>1.495412e-03</td>\n",
       "      <td>0.000245</td>\n",
       "      <td>7.876485e-04</td>\n",
       "      <td>2.527868e-03</td>\n",
       "    </tr>\n",
       "    <tr>\n",
       "      <th>ind27</th>\n",
       "      <td>-3.450705e-05</td>\n",
       "      <td>-0.000840</td>\n",
       "      <td>5.654871e-05</td>\n",
       "      <td>-8.179992e-04</td>\n",
       "    </tr>\n",
       "    <tr>\n",
       "      <th>ind28</th>\n",
       "      <td>-1.738400e-03</td>\n",
       "      <td>-0.040716</td>\n",
       "      <td>-4.653842e-04</td>\n",
       "      <td>-4.292017e-02</td>\n",
       "    </tr>\n",
       "    <tr>\n",
       "      <th>ind29</th>\n",
       "      <td>-4.028071e-06</td>\n",
       "      <td>0.000916</td>\n",
       "      <td>-2.011248e-06</td>\n",
       "      <td>9.103124e-04</td>\n",
       "    </tr>\n",
       "    <tr>\n",
       "      <th>ind31</th>\n",
       "      <td>9.674458e-04</td>\n",
       "      <td>0.000691</td>\n",
       "      <td>-5.718242e-04</td>\n",
       "      <td>1.086253e-03</td>\n",
       "    </tr>\n",
       "  </tbody>\n",
       "</table>\n",
       "</div>"
      ],
      "text/plain": [
       "                    AR        SR            IR           R^A\n",
       "industry                                                    \n",
       "ind01     2.472590e-04 -0.017109  2.158072e-05 -1.684013e-02\n",
       "ind02    -2.860386e-04 -0.004954 -7.932262e-05 -5.319304e-03\n",
       "ind03     1.209660e-03  0.014836 -9.785899e-04  1.506700e-02\n",
       "ind04    -2.080718e-04 -0.007121  1.534805e-04 -7.175247e-03\n",
       "ind05     7.213076e-04  0.004695 -5.205406e-04  4.896159e-03\n",
       "ind06    -5.475586e-07 -0.000868  1.110386e-05 -8.578919e-04\n",
       "ind07     4.903892e-04  0.006498 -1.294231e-04  6.858590e-03\n",
       "ind09     2.520324e-04  0.003551 -1.485445e-04  3.654312e-03\n",
       "ind10    -8.604225e-05 -0.000099  4.442168e-05 -1.408951e-04\n",
       "ind11     4.125101e-04  0.012148  1.091729e-04  1.266953e-02\n",
       "ind12    -1.425087e-04  0.001388  9.220497e-05  1.337851e-03\n",
       "ind13     2.076702e-04  0.003894 -9.244808e-05  4.009677e-03\n",
       "ind14     4.046422e-05  0.000282 -2.557194e-05  2.973536e-04\n",
       "ind15     2.938235e-04  0.003728 -7.263643e-05  3.949575e-03\n",
       "ind16     7.372074e-05  0.000102 -2.357925e-05  1.520569e-04\n",
       "ind17    -3.535285e-03  0.056616  5.029239e-03  5.811020e-02\n",
       "ind19    -6.491507e-05  0.000433  5.493494e-05  4.232834e-04\n",
       "ind20     6.052361e-04  0.005827  1.245183e-04  6.557188e-03\n",
       "ind21    -1.351034e-03 -0.012616  5.316552e-04 -1.343526e-02\n",
       "ind22    -5.408470e-07  0.000001  1.829371e-07  9.261037e-07\n",
       "ind23     8.790054e-05  0.000472 -2.289247e-05  5.371625e-04\n",
       "ind24    -1.814637e-04 -0.000631  3.604645e-05 -7.759968e-04\n",
       "ind25    -3.200214e-04  0.001238  1.397673e-04  1.057861e-03\n",
       "ind26     1.495412e-03  0.000245  7.876485e-04  2.527868e-03\n",
       "ind27    -3.450705e-05 -0.000840  5.654871e-05 -8.179992e-04\n",
       "ind28    -1.738400e-03 -0.040716 -4.653842e-04 -4.292017e-02\n",
       "ind29    -4.028071e-06  0.000916 -2.011248e-06  9.103124e-04\n",
       "ind31     9.674458e-04  0.000691 -5.718242e-04  1.086253e-03"
      ]
     },
     "execution_count": 40,
     "metadata": {},
     "output_type": "execute_result"
    }
   ],
   "source": [
    "bhb_industry"
   ]
  },
  {
   "cell_type": "code",
   "execution_count": 41,
   "metadata": {
    "scrolled": false
   },
   "outputs": [
    {
     "data": {
      "image/png": "[encoded data removed]",
      "text/plain": [
       "<Figure size 1440x2160 with 3 Axes>"
      ]
     },
     "metadata": {
      "needs_background": "light"
     },
     "output_type": "display_data"
    }
   ],
   "source": [
    "fig = plt.figure(figsize=(20,30))\n",
    "ax=fig.add_subplot(311)\n",
    "colors = [\"green\" if value < 0 else \"red\" for value in bhb_industry[\"R^A\"]]\n",
    "ax.bar(bhb_industry.index, bhb_industry[\"R^A\"], color = colors)\n",
    "ax.set(title=\"行业超额收益图\", xlabel='行业', ylabel='百分比数值')\n",
    "ax.set_xticklabels(bhb_industry.index,rotation=45)\n",
    "ax.yaxis.set_major_formatter(mtick.PercentFormatter(xmax=1.0))\n",
    "\n",
    "ax=fig.add_subplot(312)\n",
    "colors = [\"green\" if value < 0 else \"red\" for value in bhb_industry[\"AR\"]]\n",
    "ax.bar(bhb_industry.index, bhb_industry[\"AR\"], color = colors)\n",
    "ax.set(title=\"行业AR图\", xlabel='行业', ylabel='百分比数值')\n",
    "ax.set_xticklabels(bhb_industry.index,rotation=45)\n",
    "ax.yaxis.set_major_formatter(mtick.PercentFormatter(xmax=1.0))\n",
    "\n",
    "ax=fig.add_subplot(313)\n",
    "colors = [\"green\" if value < 0 else \"red\" for value in bhb_industry[\"SR\"]]\n",
    "ax.bar(bhb_industry.index, bhb_industry[\"SR\"], color = colors)\n",
    "ax.set(title=\"行业SR图\", xlabel='行业', ylabel='百分比数值')\n",
    "ax.set_xticklabels(bhb_industry.index,rotation=45)\n",
    "ax.yaxis.set_major_formatter(mtick.PercentFormatter(xmax=1.0))\n",
    "fig.tight_layout()"
   ]
  },
  {
   "cell_type": "code",
   "execution_count": null,
   "metadata": {},
   "outputs": [],
   "source": []
  },
  {
   "cell_type": "code",
   "execution_count": null,
   "metadata": {},
   "outputs": [],
   "source": []
  },
  {
   "cell_type": "code",
   "execution_count": null,
   "metadata": {},
   "outputs": [],
   "source": []
  },
  {
   "cell_type": "code",
   "execution_count": null,
   "metadata": {},
   "outputs": [],
   "source": []
  },
  {
   "cell_type": "code",
   "execution_count": null,
   "metadata": {},
   "outputs": [],
   "source": []
  },
  {
   "cell_type": "code",
   "execution_count": null,
   "metadata": {},
   "outputs": [],
   "source": []
  },
  {
   "cell_type": "code",
   "execution_count": null,
   "metadata": {},
   "outputs": [],
   "source": []
  },
  {
   "cell_type": "code",
   "execution_count": null,
   "metadata": {},
   "outputs": [],
   "source": []
  },
  {
   "cell_type": "code",
   "execution_count": null,
   "metadata": {},
   "outputs": [],
   "source": []
  },
  {
   "cell_type": "code",
   "execution_count": null,
   "metadata": {},
   "outputs": [],
   "source": []
  },
  {
   "cell_type": "code",
   "execution_count": null,
   "metadata": {},
   "outputs": [],
   "source": []
  },
  {
   "cell_type": "code",
   "execution_count": null,
   "metadata": {},
   "outputs": [],
   "source": []
  },
  {
   "cell_type": "code",
   "execution_count": null,
   "metadata": {},
   "outputs": [],
   "source": []
  },
  {
   "cell_type": "code",
   "execution_count": null,
   "metadata": {},
   "outputs": [],
   "source": []
  },
  {
   "cell_type": "code",
   "execution_count": null,
   "metadata": {},
   "outputs": [],
   "source": []
  },
  {
   "cell_type": "code",
   "execution_count": null,
   "metadata": {},
   "outputs": [],
   "source": []
  }
 ],
 "metadata": {
  "kernelspec": {
   "display_name": "Python 3",
   "language": "python",
   "name": "python3"
  },
  "language_info": {
   "codemirror_mode": {
    "name": "ipython",
    "version": 3
   },
   "file_extension": ".py",
   "mimetype": "text/x-python",
   "name": "python",
   "nbconvert_exporter": "python",
   "pygments_lexer": "ipython3",
   "version": "3.6.10"
  }
 },
 "nbformat": 4,
 "nbformat_minor": 4
}
